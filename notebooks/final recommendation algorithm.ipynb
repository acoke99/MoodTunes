{
 "cells": [
  {
   "cell_type": "markdown",
   "id": "304f5185",
   "metadata": {},
   "source": [
    "## Final recommendation algorithm ##\n",
    "\n",
    "Steps that are new or different from the basic algorithm are marked with (New) or (Updated)."
   ]
  },
  {
   "cell_type": "markdown",
   "id": "b94ed4ca-bd55-4077-8360-8e8bbdcf213a",
   "metadata": {},
   "source": [
    "**Import libraries**\n",
    "\n",
    "Import the required libraries for data analysis and machine learning.\n"
   ]
  },
  {
   "cell_type": "code",
   "execution_count": 1,
   "id": "66669c41-a908-465c-a4ff-a53b5abc203f",
   "metadata": {
    "executionCancelledAt": null,
    "executionTime": 2216,
    "lastExecutedAt": 1745910599206,
    "lastExecutedByKernel": "3f6a50a6-55f0-4de0-8c84-2558e78470ac",
    "lastScheduledRunId": null,
    "lastSuccessfullyExecutedCode": "import numpy as np\nimport pandas as pd\nfrom sklearn.metrics.pairwise import cosine_similarity\nfrom sklearn.preprocessing import StandardScaler"
   },
   "outputs": [],
   "source": [
    "import numpy as np\n",
    "import pandas as pd\n",
    "from sklearn.metrics.pairwise import cosine_similarity\n",
    "from sklearn.preprocessing import StandardScaler"
   ]
  },
  {
   "cell_type": "markdown",
   "id": "a5bb604c-e216-44c4-994d-941a479a9a66",
   "metadata": {},
   "source": [
    "**Load data**\n",
    "\n",
    "Load selected columns from a CSV file into a DataFrame, rename some columns for consistency, and display the first few rows of the resulting data.\n"
   ]
  },
  {
   "cell_type": "code",
   "execution_count": 2,
   "id": "85a6cd44-bf5d-4a50-9c7b-e19e5020fba3",
   "metadata": {
    "executionCancelledAt": null,
    "executionTime": 1207,
    "lastExecutedAt": 1745910693889,
    "lastExecutedByKernel": "3f6a50a6-55f0-4de0-8c84-2558e78470ac",
    "lastScheduledRunId": null,
    "lastSuccessfullyExecutedCode": "# Select relevant columns\nusecols = [\"id\", \"name\", \"artists\", \"popularity\", \"energy\", \"instrumentalness\", \"valence\"]\n\n# Load and normalize the dataset\ndf = pd.read_csv('tracks.csv', usecols=usecols, dtype={'artists': 'object', 'popularity': 'float64'})\ndf.head(5)",
    "outputsMetadata": {
     "0": {
      "chartState": {
       "chartModel": {
        "cellRange": {
         "columns": [],
         "rowEndIndex": null,
         "rowEndPinned": null,
         "rowStartIndex": null,
         "rowStartPinned": null
        },
        "chartId": "id-a6w6kpfy146",
        "chartOptions": {
         "common": {
          "animation": {
           "enabled": true
          }
         }
        },
        "chartPalette": {
         "altDown": {
          "fill": "#ffa03a",
          "stroke": "#cc6f10"
         },
         "altNeutral": {
          "fill": "#b5b5b5",
          "stroke": "#575757"
         },
         "altUp": {
          "fill": "#5090dc",
          "stroke": "#2b5c95"
         },
         "down": {
          "fill": "#ef5452",
          "stroke": "#a82529"
         },
         "fills": [
          "#6568A0",
          "#43D7A4",
          "#4095DB",
          "#FACC5F",
          "#CAE279",
          "#F08083",
          "#5BCDF2",
          "#F099DC",
          "#965858",
          "#7DB64F",
          "#A98954"
         ],
         "neutral": {
          "fill": "#b5b5b5",
          "stroke": "#575757"
         },
         "strokes": [
          "#6568A0",
          "#43D7A4",
          "#4095DB",
          "#FACC5F",
          "#CAE279",
          "#F08083",
          "#5BCDF2",
          "#F099DC",
          "#965858",
          "#7DB64F",
          "#A98954"
         ],
         "up": {
          "fill": "#459d55",
          "stroke": "#1e652e"
         }
        },
        "chartThemeName": "datalabTheme",
        "chartType": "groupedColumn",
        "modelType": "range",
        "suppressChartRanges": false,
        "switchCategorySeries": false,
        "unlinkChart": false,
        "version": "32.2.2"
       },
       "rangeChartModel": {
        "rangeColumns": [],
        "switchCategorySeries": false
       }
      },
      "height": 550,
      "tableState": {
       "customFilter": {
        "const": {
         "type": "boolean",
         "valid": true,
         "value": true
        },
        "id": "084892cc-a936-4231-839f-acedf712a234",
        "nodeType": "const"
       },
       "quickFilterText": ""
      },
      "type": "dataFrame"
     }
    },
    "version": "ag-charts-v1",
    "visualizeDataframe": false
   },
   "outputs": [
    {
     "data": {
      "text/html": [
       "<div>\n",
       "<style scoped>\n",
       "    .dataframe tbody tr th:only-of-type {\n",
       "        vertical-align: middle;\n",
       "    }\n",
       "\n",
       "    .dataframe tbody tr th {\n",
       "        vertical-align: top;\n",
       "    }\n",
       "\n",
       "    .dataframe thead th {\n",
       "        text-align: right;\n",
       "    }\n",
       "</style>\n",
       "<table border=\"1\" class=\"dataframe\">\n",
       "  <thead>\n",
       "    <tr style=\"text-align: right;\">\n",
       "      <th></th>\n",
       "      <th>track_id</th>\n",
       "      <th>track_name</th>\n",
       "      <th>artist</th>\n",
       "      <th>genre</th>\n",
       "      <th>valence</th>\n",
       "      <th>energy</th>\n",
       "      <th>popularity</th>\n",
       "      <th>instrumentalness</th>\n",
       "    </tr>\n",
       "  </thead>\n",
       "  <tbody>\n",
       "    <tr>\n",
       "      <th>0</th>\n",
       "      <td>53QF56cjZA9RTuuMZDrSA6</td>\n",
       "      <td>I Won't Give Up</td>\n",
       "      <td>Jason Mraz</td>\n",
       "      <td>Folk</td>\n",
       "      <td>0.139</td>\n",
       "      <td>0.303</td>\n",
       "      <td>68.0</td>\n",
       "      <td>0.000000</td>\n",
       "    </tr>\n",
       "    <tr>\n",
       "      <th>1</th>\n",
       "      <td>1s8tP3jP4GZcyHDsjvw218</td>\n",
       "      <td>93 Million Miles</td>\n",
       "      <td>Jason Mraz</td>\n",
       "      <td>Folk</td>\n",
       "      <td>0.515</td>\n",
       "      <td>0.454</td>\n",
       "      <td>50.0</td>\n",
       "      <td>0.000014</td>\n",
       "    </tr>\n",
       "    <tr>\n",
       "      <th>2</th>\n",
       "      <td>7BRCa8MPiyuvr2VU3O9W0F</td>\n",
       "      <td>Do Not Let Me Go</td>\n",
       "      <td>Joshua Hyslop</td>\n",
       "      <td>Folk</td>\n",
       "      <td>0.145</td>\n",
       "      <td>0.234</td>\n",
       "      <td>57.0</td>\n",
       "      <td>0.000050</td>\n",
       "    </tr>\n",
       "    <tr>\n",
       "      <th>3</th>\n",
       "      <td>63wsZUhUZLlh1OsyrZq7sz</td>\n",
       "      <td>Fast Car</td>\n",
       "      <td>Boyce Avenue</td>\n",
       "      <td>Folk</td>\n",
       "      <td>0.508</td>\n",
       "      <td>0.251</td>\n",
       "      <td>58.0</td>\n",
       "      <td>0.000000</td>\n",
       "    </tr>\n",
       "    <tr>\n",
       "      <th>4</th>\n",
       "      <td>6nXIYClvJAfi6ujLiKqEq8</td>\n",
       "      <td>Sky's Still Blue</td>\n",
       "      <td>Andrew Belle</td>\n",
       "      <td>Folk</td>\n",
       "      <td>0.217</td>\n",
       "      <td>0.791</td>\n",
       "      <td>54.0</td>\n",
       "      <td>0.019300</td>\n",
       "    </tr>\n",
       "  </tbody>\n",
       "</table>\n",
       "</div>"
      ],
      "text/plain": [
       "                 track_id        track_name         artist genre  valence  \\\n",
       "0  53QF56cjZA9RTuuMZDrSA6   I Won't Give Up     Jason Mraz  Folk    0.139   \n",
       "1  1s8tP3jP4GZcyHDsjvw218  93 Million Miles     Jason Mraz  Folk    0.515   \n",
       "2  7BRCa8MPiyuvr2VU3O9W0F  Do Not Let Me Go  Joshua Hyslop  Folk    0.145   \n",
       "3  63wsZUhUZLlh1OsyrZq7sz          Fast Car   Boyce Avenue  Folk    0.508   \n",
       "4  6nXIYClvJAfi6ujLiKqEq8  Sky's Still Blue   Andrew Belle  Folk    0.217   \n",
       "\n",
       "   energy  popularity  instrumentalness  \n",
       "0   0.303        68.0          0.000000  \n",
       "1   0.454        50.0          0.000014  \n",
       "2   0.234        57.0          0.000050  \n",
       "3   0.251        58.0          0.000000  \n",
       "4   0.791        54.0          0.019300  "
      ]
     },
     "execution_count": 2,
     "metadata": {},
     "output_type": "execute_result"
    }
   ],
   "source": [
    "# Select relevant columns \n",
    "usecols = [\"track_id\", \"track_name\", \"artist_name\", \"new_genre\", \"popularity\", \"energy\", \"instrumentalness\", \"valence\"]\n",
    "\n",
    "# Load data file into a DataFrame\n",
    "df = pd.read_csv('../datasets/track_data.csv', usecols=usecols, dtype={'popularity': 'float64'})\n",
    "\n",
    "# Rename columns\n",
    "df.rename(columns={'artist_name': 'artist', 'new_genre': 'genre'}, inplace=True)\n",
    "\n",
    "# Display the first few rows \n",
    "df.head()"
   ]
  },
  {
   "cell_type": "markdown",
   "id": "df7b9265-03ab-46ca-a592-95ebbb16c76a",
   "metadata": {},
   "source": [
    "**Normalise data (Updated)**\n",
    "\n",
    "Scale the non-mood numerical features in the DataFrame, so that they can be compared and treated equally.  Each feature will now have a mean of 0 and a standard deviation of 1.\n",
    "\n",
    "Mood features (valence, energy) are processed separately."
   ]
  },
  {
   "cell_type": "code",
   "execution_count": 3,
   "id": "a700342a-a155-43d7-b233-7fbfb7f572e2",
   "metadata": {
    "executionCancelledAt": null,
    "executionTime": 38,
    "lastExecutedAt": 1745910695723,
    "lastExecutedByKernel": "3f6a50a6-55f0-4de0-8c84-2558e78470ac",
    "lastScheduledRunId": null,
    "lastSuccessfullyExecutedCode": "# Normalise numerical features\nnumerical_features = [\"popularity\", \"energy\", \"instrumentalness\", \"valence\"]\nscaler = StandardScaler()\ndf.loc[:, numerical_features] = scaler.fit_transform(df[numerical_features].values)\ndf.head()",
    "outputsMetadata": {
     "0": {
      "height": 550,
      "tableState": {
       "customFilter": {
        "const": {
         "type": "boolean",
         "valid": true,
         "value": true
        },
        "id": "b5411fe0-d6ca-4673-861e-d72288b9b2d8",
        "nodeType": "const"
       },
       "quickFilterText": ""
      },
      "type": "dataFrame"
     }
    }
   },
   "outputs": [
    {
     "data": {
      "text/html": [
       "<div>\n",
       "<style scoped>\n",
       "    .dataframe tbody tr th:only-of-type {\n",
       "        vertical-align: middle;\n",
       "    }\n",
       "\n",
       "    .dataframe tbody tr th {\n",
       "        vertical-align: top;\n",
       "    }\n",
       "\n",
       "    .dataframe thead th {\n",
       "        text-align: right;\n",
       "    }\n",
       "</style>\n",
       "<table border=\"1\" class=\"dataframe\">\n",
       "  <thead>\n",
       "    <tr style=\"text-align: right;\">\n",
       "      <th></th>\n",
       "      <th>track_id</th>\n",
       "      <th>track_name</th>\n",
       "      <th>artist</th>\n",
       "      <th>genre</th>\n",
       "      <th>valence</th>\n",
       "      <th>energy</th>\n",
       "      <th>popularity</th>\n",
       "      <th>instrumentalness</th>\n",
       "    </tr>\n",
       "  </thead>\n",
       "  <tbody>\n",
       "    <tr>\n",
       "      <th>0</th>\n",
       "      <td>53QF56cjZA9RTuuMZDrSA6</td>\n",
       "      <td>I Won't Give Up</td>\n",
       "      <td>Jason Mraz</td>\n",
       "      <td>Folk</td>\n",
       "      <td>0.139</td>\n",
       "      <td>0.303</td>\n",
       "      <td>3.104013</td>\n",
       "      <td>-0.699768</td>\n",
       "    </tr>\n",
       "    <tr>\n",
       "      <th>1</th>\n",
       "      <td>1s8tP3jP4GZcyHDsjvw218</td>\n",
       "      <td>93 Million Miles</td>\n",
       "      <td>Jason Mraz</td>\n",
       "      <td>Folk</td>\n",
       "      <td>0.515</td>\n",
       "      <td>0.454</td>\n",
       "      <td>1.974708</td>\n",
       "      <td>-0.699731</td>\n",
       "    </tr>\n",
       "    <tr>\n",
       "      <th>2</th>\n",
       "      <td>7BRCa8MPiyuvr2VU3O9W0F</td>\n",
       "      <td>Do Not Let Me Go</td>\n",
       "      <td>Joshua Hyslop</td>\n",
       "      <td>Folk</td>\n",
       "      <td>0.145</td>\n",
       "      <td>0.234</td>\n",
       "      <td>2.413882</td>\n",
       "      <td>-0.699632</td>\n",
       "    </tr>\n",
       "    <tr>\n",
       "      <th>3</th>\n",
       "      <td>63wsZUhUZLlh1OsyrZq7sz</td>\n",
       "      <td>Fast Car</td>\n",
       "      <td>Boyce Avenue</td>\n",
       "      <td>Folk</td>\n",
       "      <td>0.508</td>\n",
       "      <td>0.251</td>\n",
       "      <td>2.476621</td>\n",
       "      <td>-0.699768</td>\n",
       "    </tr>\n",
       "    <tr>\n",
       "      <th>4</th>\n",
       "      <td>6nXIYClvJAfi6ujLiKqEq8</td>\n",
       "      <td>Sky's Still Blue</td>\n",
       "      <td>Andrew Belle</td>\n",
       "      <td>Folk</td>\n",
       "      <td>0.217</td>\n",
       "      <td>0.791</td>\n",
       "      <td>2.225665</td>\n",
       "      <td>-0.647133</td>\n",
       "    </tr>\n",
       "  </tbody>\n",
       "</table>\n",
       "</div>"
      ],
      "text/plain": [
       "                 track_id        track_name         artist genre  valence  \\\n",
       "0  53QF56cjZA9RTuuMZDrSA6   I Won't Give Up     Jason Mraz  Folk    0.139   \n",
       "1  1s8tP3jP4GZcyHDsjvw218  93 Million Miles     Jason Mraz  Folk    0.515   \n",
       "2  7BRCa8MPiyuvr2VU3O9W0F  Do Not Let Me Go  Joshua Hyslop  Folk    0.145   \n",
       "3  63wsZUhUZLlh1OsyrZq7sz          Fast Car   Boyce Avenue  Folk    0.508   \n",
       "4  6nXIYClvJAfi6ujLiKqEq8  Sky's Still Blue   Andrew Belle  Folk    0.217   \n",
       "\n",
       "   energy  popularity  instrumentalness  \n",
       "0   0.303    3.104013         -0.699768  \n",
       "1   0.454    1.974708         -0.699731  \n",
       "2   0.234    2.413882         -0.699632  \n",
       "3   0.251    2.476621         -0.699768  \n",
       "4   0.791    2.225665         -0.647133  "
      ]
     },
     "execution_count": 3,
     "metadata": {},
     "output_type": "execute_result"
    }
   ],
   "source": [
    "# Normalise numerical features\n",
    "numerical_features = [\"popularity\", \"instrumentalness\"]\n",
    "scaler = StandardScaler()\n",
    "df.loc[:, numerical_features] = scaler.fit_transform(df[numerical_features].values)\n",
    "df.head()"
   ]
  },
  {
   "cell_type": "markdown",
   "id": "a8bbc88c-b2ab-49fe-b9a4-853a9d310c24",
   "metadata": {
    "collapsed": false,
    "jupyter": {
     "outputs_hidden": false,
     "source_hidden": false
    }
   },
   "source": [
    "**Setup user preferences (Updated)**\n",
    "\n",
    "Setup user preferences for the recommendation algorithm."
   ]
  },
  {
   "cell_type": "code",
   "execution_count": 4,
   "id": "1c2d6531-d3b9-426b-a12e-312ddbfd7a82",
   "metadata": {
    "executionCancelledAt": null,
    "executionTime": 10,
    "lastExecutedAt": 1745910713338,
    "lastExecutedByKernel": "3f6a50a6-55f0-4de0-8c84-2558e78470ac",
    "lastScheduledRunId": null,
    "lastSuccessfullyExecutedCode": "# Set values for user profile\nuser_profile = {\n    \"popularity\": 80,\n    \"energy\": 0.5,\n    \"instrumentalness\": 0.1,\n    \"valence\": 0.5,\n    \"preferred_artists\": ['Ed Sheeran', 'Coldplay'],\n}"
   },
   "outputs": [],
   "source": [
    "# Setup user preferences\n",
    "preferences = {\n",
    "    \"popularity\": 80,\n",
    "    \"instrumentalness\": 0.1,\n",
    "    \"genres\": ['Pop', 'Rock'],\n",
    "    \"artists\": ['Ed Sheeran', 'Coldplay'],\n",
    "}"
   ]
  },
  {
   "cell_type": "markdown",
   "id": "cad78b90",
   "metadata": {},
   "source": [
    "**Filter dataset by genre**\n",
    "\n",
    "Filter the dataset based on the user's genre preferences."
   ]
  },
  {
   "cell_type": "code",
   "execution_count": 5,
   "id": "0137e16f",
   "metadata": {},
   "outputs": [
    {
     "data": {
      "text/plain": [
       "0    False\n",
       "1    False\n",
       "2    False\n",
       "3    False\n",
       "4    False\n",
       "Name: genre, dtype: bool"
      ]
     },
     "execution_count": 5,
     "metadata": {},
     "output_type": "execute_result"
    }
   ],
   "source": [
    "# Create a boolean mask for matching genres\n",
    "genre_mask = df['genre'].isin(preferences['genres'])  \n",
    "genre_mask.head()"
   ]
  },
  {
   "cell_type": "code",
   "execution_count": 6,
   "id": "0f766060",
   "metadata": {},
   "outputs": [
    {
     "data": {
      "text/html": [
       "<div>\n",
       "<style scoped>\n",
       "    .dataframe tbody tr th:only-of-type {\n",
       "        vertical-align: middle;\n",
       "    }\n",
       "\n",
       "    .dataframe tbody tr th {\n",
       "        vertical-align: top;\n",
       "    }\n",
       "\n",
       "    .dataframe thead th {\n",
       "        text-align: right;\n",
       "    }\n",
       "</style>\n",
       "<table border=\"1\" class=\"dataframe\">\n",
       "  <thead>\n",
       "    <tr style=\"text-align: right;\">\n",
       "      <th></th>\n",
       "      <th>track_id</th>\n",
       "      <th>track_name</th>\n",
       "      <th>artist</th>\n",
       "      <th>genre</th>\n",
       "      <th>valence</th>\n",
       "      <th>energy</th>\n",
       "      <th>popularity</th>\n",
       "      <th>instrumentalness</th>\n",
       "    </tr>\n",
       "  </thead>\n",
       "  <tbody>\n",
       "    <tr>\n",
       "      <th>1770</th>\n",
       "      <td>2iUmqdfGZcHIhS3b9E9EWq</td>\n",
       "      <td>Everybody Talks</td>\n",
       "      <td>Neon Trees</td>\n",
       "      <td>Rock</td>\n",
       "      <td>0.7250</td>\n",
       "      <td>0.924</td>\n",
       "      <td>3.668666</td>\n",
       "      <td>-0.699768</td>\n",
       "    </tr>\n",
       "    <tr>\n",
       "      <th>1771</th>\n",
       "      <td>4FEr6dIdH6EqLKR0jB560J</td>\n",
       "      <td>Rosemary</td>\n",
       "      <td>Deftones</td>\n",
       "      <td>Rock</td>\n",
       "      <td>0.0772</td>\n",
       "      <td>0.613</td>\n",
       "      <td>3.292231</td>\n",
       "      <td>-0.427045</td>\n",
       "    </tr>\n",
       "    <tr>\n",
       "      <th>1772</th>\n",
       "      <td>1RTYixE1DD3g3upEpmCJpa</td>\n",
       "      <td>In The End</td>\n",
       "      <td>Black Veil Brides</td>\n",
       "      <td>Rock</td>\n",
       "      <td>0.2700</td>\n",
       "      <td>0.939</td>\n",
       "      <td>3.104013</td>\n",
       "      <td>-0.683705</td>\n",
       "    </tr>\n",
       "    <tr>\n",
       "      <th>1773</th>\n",
       "      <td>0AOmbw8AwDnwXhHC3OhdVB</td>\n",
       "      <td>Courtesy Call</td>\n",
       "      <td>Thousand Foot Krutch</td>\n",
       "      <td>Rock</td>\n",
       "      <td>0.4450</td>\n",
       "      <td>0.638</td>\n",
       "      <td>3.292231</td>\n",
       "      <td>-0.699768</td>\n",
       "    </tr>\n",
       "    <tr>\n",
       "      <th>1774</th>\n",
       "      <td>4bLCPfBLKlqiONo6TALTh5</td>\n",
       "      <td>Entombed</td>\n",
       "      <td>Deftones</td>\n",
       "      <td>Rock</td>\n",
       "      <td>0.1670</td>\n",
       "      <td>0.753</td>\n",
       "      <td>2.915796</td>\n",
       "      <td>-0.350683</td>\n",
       "    </tr>\n",
       "  </tbody>\n",
       "</table>\n",
       "</div>"
      ],
      "text/plain": [
       "                    track_id       track_name                artist genre  \\\n",
       "1770  2iUmqdfGZcHIhS3b9E9EWq  Everybody Talks            Neon Trees  Rock   \n",
       "1771  4FEr6dIdH6EqLKR0jB560J         Rosemary              Deftones  Rock   \n",
       "1772  1RTYixE1DD3g3upEpmCJpa       In The End     Black Veil Brides  Rock   \n",
       "1773  0AOmbw8AwDnwXhHC3OhdVB    Courtesy Call  Thousand Foot Krutch  Rock   \n",
       "1774  4bLCPfBLKlqiONo6TALTh5         Entombed              Deftones  Rock   \n",
       "\n",
       "      valence  energy  popularity  instrumentalness  \n",
       "1770   0.7250   0.924    3.668666         -0.699768  \n",
       "1771   0.0772   0.613    3.292231         -0.427045  \n",
       "1772   0.2700   0.939    3.104013         -0.683705  \n",
       "1773   0.4450   0.638    3.292231         -0.699768  \n",
       "1774   0.1670   0.753    2.915796         -0.350683  "
      ]
     },
     "execution_count": 6,
     "metadata": {},
     "output_type": "execute_result"
    }
   ],
   "source": [
    "# Use the mask to filter and copy the DataFrame\n",
    "filtered_df = df[genre_mask].copy()                   \n",
    "\n",
    "# Display the filtered DataFrame\n",
    "filtered_df.head()"
   ]
  },
  {
   "cell_type": "markdown",
   "id": "846b7d55-9001-4da2-897a-26386af20645",
   "metadata": {},
   "source": [
    "**Create user vector**\n",
    "\n",
    "Create a list of the user's preferences, focusing on the selected numerical features only. We use only numerical features because they can be directly compared using math, while non-numeric features like genre or artist cannot."
   ]
  },
  {
   "cell_type": "code",
   "execution_count": 7,
   "id": "418e6320-ce14-4ef5-ba39-819fa851a22b",
   "metadata": {
    "executionCancelledAt": null,
    "executionTime": 10,
    "lastExecutedAt": 1745910725122,
    "lastExecutedByKernel": "3f6a50a6-55f0-4de0-8c84-2558e78470ac",
    "lastScheduledRunId": null,
    "lastSuccessfullyExecutedCode": "user_feature_vector = [\n    user_profile[\"popularity\"],\n    user_profile[\"energy\"],\n    user_profile[\"instrumentalness\"],\n    user_profile[\"valence\"]\n]\n\nuser_feature_vector_scaled = scaler.transform([user_feature_vector])[0]\nprint(user_feature_vector_scaled)",
    "outputsMetadata": {
     "0": {
      "height": 38,
      "type": "stream"
     }
    }
   },
   "outputs": [
    {
     "name": "stdout",
     "output_type": "stream",
     "text": [
      "[80, 0.1]\n"
     ]
    }
   ],
   "source": [
    "# Create user vector\n",
    "user_vector = [preferences[feature] for feature in numerical_features]\n",
    "print(user_vector)"
   ]
  },
  {
   "cell_type": "markdown",
   "id": "a8f833ac",
   "metadata": {},
   "source": [
    "**Normalise user vector**\n",
    "\n",
    "Scale the user's vector, so that it can be compared to the song data."
   ]
  },
  {
   "cell_type": "code",
   "execution_count": 8,
   "id": "3d0c125e-8240-45bb-a187-14b4e3697162",
   "metadata": {
    "executionCancelledAt": null,
    "executionTime": 48,
    "lastExecutedAt": 1745910746299,
    "lastExecutedByKernel": "3f6a50a6-55f0-4de0-8c84-2558e78470ac",
    "lastScheduledRunId": null,
    "lastSuccessfullyExecutedCode": "# Set features to be ignored for recommendations (optional)\nignored_features = ['instrumentalness']\n\nignore_indices = [numerical_features.index(feature) for feature in ignored_features]\n\nfor index in ignore_indices:\n    user_feature_vector_scaled[index] = 0.0\n        \nprint(user_feature_vector_scaled)",
    "outputsMetadata": {
     "0": {
      "height": 38,
      "type": "stream"
     }
    }
   },
   "outputs": [
    {
     "name": "stdout",
     "output_type": "stream",
     "text": [
      "[ 3.85688358 -0.42704533]\n"
     ]
    }
   ],
   "source": [
    "# Scale the user vector using the same scaler as the dataset\n",
    "user_vector_scaled = scaler.transform([user_vector])[0]\n",
    "print(user_vector_scaled)"
   ]
  },
  {
   "cell_type": "markdown",
   "id": "c7bc159c",
   "metadata": {},
   "source": [
    "**Extract track vectors**\n",
    "\n",
    "Extract the numerical features for each track."
   ]
  },
  {
   "cell_type": "code",
   "execution_count": 9,
   "id": "c7e8fba7-6433-4da2-8c36-84b1a7f66eef",
   "metadata": {
    "executionCancelledAt": null,
    "executionTime": 11,
    "lastExecutedAt": 1745910752627,
    "lastExecutedByKernel": "3f6a50a6-55f0-4de0-8c84-2558e78470ac",
    "lastScheduledRunId": null,
    "lastSuccessfullyExecutedCode": "# Extract feature matrix\nfeature_matrix = df[numerical_features].values\nprint(feature_matrix)",
    "outputsMetadata": {
     "0": {
      "height": 164,
      "type": "stream"
     }
    }
   },
   "outputs": [
    {
     "name": "stdout",
     "output_type": "stream",
     "text": [
      "[[ 3.10401332 -0.69976823]\n",
      " [ 1.97470792 -0.69973087]\n",
      " [ 2.41388224 -0.69963187]\n",
      " ...\n",
      " [-1.03677314 -0.691232  ]\n",
      " [-1.16225152 -0.6995956 ]\n",
      " [-0.97403395 -0.69974524]]\n"
     ]
    }
   ],
   "source": [
    "# Extract track vectors\n",
    "track_vectors = df[numerical_features].values\n",
    "print(track_vectors)"
   ]
  },
  {
   "cell_type": "markdown",
   "id": "c9f462d8-05f7-406b-bf6d-36980bb6d0f6",
   "metadata": {},
   "source": [
    "**Calculate similarity between user vector and track vectors**\n",
    "\n",
    "Measure how similar each track is to the user's preferences by comparing their feature vectors. The measure of similarity used is called \"cosine similarity\".\n",
    "\n",
    "Geometrically, it is the cosine of the angle between the two vectors. If two vectors are identical, the angle is 0 and the cosine is 1, indicating perfect similarity. If they are completely different, the angle is 90 degrees and the cosine is 0, indicating no similarity. Cosine similarity is a measure of direction, not magnitude."
   ]
  },
  {
   "cell_type": "code",
   "execution_count": 10,
   "id": "15df5792-1d41-4fe7-9845-84333ffe682a",
   "metadata": {
    "executionCancelledAt": null,
    "executionTime": 78,
    "lastExecutedAt": 1745910762757,
    "lastExecutedByKernel": "3f6a50a6-55f0-4de0-8c84-2558e78470ac",
    "lastScheduledRunId": null,
    "lastSuccessfullyExecutedCode": "# Calculate similarity between track features and user features\nsimilarity_matrix = cosine_similarity(feature_matrix, [user_feature_vector_scaled])\nprint(similarity_matrix)",
    "outputsMetadata": {
     "0": {
      "height": 164,
      "type": "stream"
     }
    }
   },
   "outputs": [
    {
     "name": "stdout",
     "output_type": "stream",
     "text": [
      "[ 0.97524212  0.94215563  0.96012234 ... -0.83272457 -0.85740602\n",
      " -0.81287903]\n"
     ]
    }
   ],
   "source": [
    "# Calculate similarity between user vector and track vectors\n",
    "similarity_matrix = cosine_similarity(track_vectors, [user_vector])\n",
    "similarity_scores = similarity_matrix.flatten()\n",
    "print(similarity_scores)"
   ]
  },
  {
   "cell_type": "markdown",
   "id": "9e62c640-387a-433d-874a-45e489b773ad",
   "metadata": {},
   "source": [
    "**Boost similarity scores for preferred artists**\n",
    "\n",
    "Boost similarity scores for tracks by preferred artists. If a track is by a preferred artist, its similarity score is increased (e.g. by 30%) to make it more likely to be recommended."
   ]
  },
  {
   "cell_type": "code",
   "execution_count": 11,
   "id": "dabcdd8e-7f49-4efa-a258-12e17f3dccaf",
   "metadata": {
    "executionCancelledAt": null,
    "executionTime": 453,
    "lastExecutedAt": 1745910769129,
    "lastExecutedByKernel": "3f6a50a6-55f0-4de0-8c84-2558e78470ac",
    "lastScheduledRunId": null,
    "lastSuccessfullyExecutedCode": "# Check if any preferred artist is in the artist list\npreferred_artists = user_profile['preferred_artists']\nartist_matches = df['artists'].apply(lambda artist_list: any(artist in artist_list for artist in preferred_artists))\n\n# Display result\ntrue_artist_matches = artist_matches[artist_matches==True]\nprint(true_artist_matches)",
    "outputsMetadata": {
     "0": {
      "height": 269,
      "type": "stream"
     },
     "1": {
      "height": 550,
      "tableState": {
       "customFilter": {
        "const": {
         "type": "boolean",
         "valid": true,
         "value": true
        },
        "id": "b5411fe0-d6ca-4673-861e-d72288b9b2d8",
        "nodeType": "const"
       },
       "quickFilterText": ""
      },
      "type": "dataFrame"
     }
    }
   },
   "outputs": [
    {
     "data": {
      "text/plain": [
       "0    False\n",
       "1    False\n",
       "2    False\n",
       "3    False\n",
       "4    False\n",
       "Name: artist, dtype: bool"
      ]
     },
     "execution_count": 11,
     "metadata": {},
     "output_type": "execute_result"
    }
   ],
   "source": [
    "# Create a boolean mask for matching artists\n",
    "artist_matches = df['artist'].isin(preferences['artists'])  \n",
    "artist_matches.head()"
   ]
  },
  {
   "cell_type": "code",
   "execution_count": 12,
   "id": "94ba5c08-7deb-49fe-b8e9-1ff38ea135fb",
   "metadata": {
    "executionCancelledAt": null,
    "executionTime": 26,
    "lastExecutedAt": 1745910789209,
    "lastExecutedByKernel": "3f6a50a6-55f0-4de0-8c84-2558e78470ac",
    "lastScheduledRunId": null,
    "lastSuccessfullyExecutedCode": "# Show tracks for these artists\ndf.iloc[true_artist_matches.index]",
    "outputsMetadata": {
     "0": {
      "height": 550,
      "tableState": {
       "customFilter": {
        "const": {
         "type": "boolean",
         "valid": true,
         "value": true
        },
        "id": "b5411fe0-d6ca-4673-861e-d72288b9b2d8",
        "nodeType": "const"
       },
       "quickFilterText": ""
      },
      "type": "dataFrame"
     }
    }
   },
   "outputs": [
    {
     "data": {
      "text/html": [
       "<div>\n",
       "<style scoped>\n",
       "    .dataframe tbody tr th:only-of-type {\n",
       "        vertical-align: middle;\n",
       "    }\n",
       "\n",
       "    .dataframe tbody tr th {\n",
       "        vertical-align: top;\n",
       "    }\n",
       "\n",
       "    .dataframe thead th {\n",
       "        text-align: right;\n",
       "    }\n",
       "</style>\n",
       "<table border=\"1\" class=\"dataframe\">\n",
       "  <thead>\n",
       "    <tr style=\"text-align: right;\">\n",
       "      <th></th>\n",
       "      <th>track_id</th>\n",
       "      <th>track_name</th>\n",
       "      <th>artist</th>\n",
       "      <th>genre</th>\n",
       "      <th>valence</th>\n",
       "      <th>energy</th>\n",
       "      <th>popularity</th>\n",
       "      <th>instrumentalness</th>\n",
       "    </tr>\n",
       "  </thead>\n",
       "  <tbody>\n",
       "    <tr>\n",
       "      <th>39647</th>\n",
       "      <td>0pjMTISKHTJkogN1BPZxaC</td>\n",
       "      <td>Paradise - Tiësto Remix</td>\n",
       "      <td>Coldplay</td>\n",
       "      <td>Pop</td>\n",
       "      <td>0.643</td>\n",
       "      <td>0.7360</td>\n",
       "      <td>2.037447</td>\n",
       "      <td>-0.317956</td>\n",
       "    </tr>\n",
       "    <tr>\n",
       "      <th>91634</th>\n",
       "      <td>6fxVffaTuwjgEk5h9QyRjy</td>\n",
       "      <td>Photograph</td>\n",
       "      <td>Ed Sheeran</td>\n",
       "      <td>Pop</td>\n",
       "      <td>0.201</td>\n",
       "      <td>0.3790</td>\n",
       "      <td>2.853057</td>\n",
       "      <td>-0.698503</td>\n",
       "    </tr>\n",
       "    <tr>\n",
       "      <th>91636</th>\n",
       "      <td>1Slwb6dOYkBlWal1PGtnNg</td>\n",
       "      <td>Thinking out Loud</td>\n",
       "      <td>Ed Sheeran</td>\n",
       "      <td>Pop</td>\n",
       "      <td>0.591</td>\n",
       "      <td>0.4450</td>\n",
       "      <td>2.853057</td>\n",
       "      <td>-0.699768</td>\n",
       "    </tr>\n",
       "    <tr>\n",
       "      <th>91649</th>\n",
       "      <td>1fu5IQSRgPxJL2OTP7FVLW</td>\n",
       "      <td>I See Fire</td>\n",
       "      <td>Ed Sheeran</td>\n",
       "      <td>Pop</td>\n",
       "      <td>0.204</td>\n",
       "      <td>0.0519</td>\n",
       "      <td>2.476621</td>\n",
       "      <td>-0.699768</td>\n",
       "    </tr>\n",
       "    <tr>\n",
       "      <th>91680</th>\n",
       "      <td>3Th56VIq2sEaEmPPETu7p5</td>\n",
       "      <td>All of the Stars</td>\n",
       "      <td>Ed Sheeran</td>\n",
       "      <td>Pop</td>\n",
       "      <td>0.287</td>\n",
       "      <td>0.5570</td>\n",
       "      <td>2.162925</td>\n",
       "      <td>-0.699272</td>\n",
       "    </tr>\n",
       "  </tbody>\n",
       "</table>\n",
       "</div>"
      ],
      "text/plain": [
       "                     track_id               track_name      artist genre  \\\n",
       "39647  0pjMTISKHTJkogN1BPZxaC  Paradise - Tiësto Remix    Coldplay   Pop   \n",
       "91634  6fxVffaTuwjgEk5h9QyRjy               Photograph  Ed Sheeran   Pop   \n",
       "91636  1Slwb6dOYkBlWal1PGtnNg        Thinking out Loud  Ed Sheeran   Pop   \n",
       "91649  1fu5IQSRgPxJL2OTP7FVLW               I See Fire  Ed Sheeran   Pop   \n",
       "91680  3Th56VIq2sEaEmPPETu7p5         All of the Stars  Ed Sheeran   Pop   \n",
       "\n",
       "       valence  energy  popularity  instrumentalness  \n",
       "39647    0.643  0.7360    2.037447         -0.317956  \n",
       "91634    0.201  0.3790    2.853057         -0.698503  \n",
       "91636    0.591  0.4450    2.853057         -0.699768  \n",
       "91649    0.204  0.0519    2.476621         -0.699768  \n",
       "91680    0.287  0.5570    2.162925         -0.699272  "
      ]
     },
     "execution_count": 12,
     "metadata": {},
     "output_type": "execute_result"
    }
   ],
   "source": [
    "# Show tracks for matching artists\n",
    "df[artist_matches].head()"
   ]
  },
  {
   "cell_type": "code",
   "execution_count": 13,
   "id": "120cbc2f-de60-4be7-b264-245cb3eeea81",
   "metadata": {
    "executionCancelledAt": null,
    "executionTime": 12,
    "lastExecutedAt": 1745910797433,
    "lastExecutedByKernel": "3f6a50a6-55f0-4de0-8c84-2558e78470ac",
    "lastScheduledRunId": null,
    "lastSuccessfullyExecutedCode": "# Boost factor - this can be tweaked.\n# A factor of 1.3 means that a preferred artist is 30% more likely to be recommended.\nboost_factor = 1.3\n\n# Multiply by boost factor where matches are found, and by 1 otherwise\nboost_values = 1 + (artist_matches.values.reshape(-1, 1) * (boost_factor - 1))\nsimilarity_matrix_with_boost = similarity_matrix * boost_values\nprint(similarity_matrix)",
    "outputsMetadata": {
     "0": {
      "height": 164,
      "type": "stream"
     }
    }
   },
   "outputs": [
    {
     "name": "stdout",
     "output_type": "stream",
     "text": [
      "[ 0.97524212  0.94215563  0.96012234 ... -0.83272457 -0.85740602\n",
      " -0.81287903]\n"
     ]
    }
   ],
   "source": [
    "# Boost factor - this can be tweaked.\n",
    "# A factor of 1.3 means that a preferred artist is 30% more likely to be recommended.\n",
    "boost_factor = 1.3\n",
    "\n",
    "# Boost scores for tracks by matching artists\n",
    "similarity_scores *= (artist_matches.values * (boost_factor - 1)) + 1\n",
    "print(similarity_scores)"
   ]
  },
  {
   "cell_type": "markdown",
   "id": "718bfdf3-0b5a-455f-ad55-1d4dfcf99629",
   "metadata": {},
   "source": [
    "**Define current and target moods (New)**\n",
    "\n",
    "Set the values for the user's current mood and the target mood. We will be trying to shift the user's mood over a number of steps. Based on these values, calculate the per-step mood adjustments required."
   ]
  },
  {
   "cell_type": "code",
   "execution_count": 14,
   "id": "77e065a9-5a23-42a2-a1b7-fd07653e1bca",
   "metadata": {
    "executionCancelledAt": null,
    "executionTime": 74,
    "lastExecutedAt": 1745910800751,
    "lastExecutedByKernel": "3f6a50a6-55f0-4de0-8c84-2558e78470ac",
    "lastScheduledRunId": null,
    "lastSuccessfullyExecutedCode": "# Recommend top N songs based on the similarity matrix\ntop_n = 10\n\n# Flatten the similarity matrix\nflattened = similarity_matrix_with_boost.flatten()\n\n# Get the indices of the top N scores\ntop_track_indices = np.argsort(-flattened)[:top_n]\n\n# Select the top N recommendations\nrecommendations = df.iloc[top_track_indices][[\"name\", \"artists\", \"id\"]]\nprint(recommendations)",
    "outputsMetadata": {
     "0": {
      "height": 290,
      "type": "stream"
     }
    }
   },
   "outputs": [
    {
     "name": "stdout",
     "output_type": "stream",
     "text": [
      "Per-step mood adjustments: valence += 0.05, energy += 0.04\n"
     ]
    }
   ],
   "source": [
    "# Set starting mood values\n",
    "start_valence = 0.3\n",
    "start_energy = 0.2\n",
    "\n",
    "# Set target mood values\n",
    "target_valence = 0.8\n",
    "target_energy = 0.6\n",
    "\n",
    "# Set number of steps (recommendations)\n",
    "num_steps = 10\n",
    "\n",
    "# Calculate per-step mood adjustments\n",
    "val_adj = (target_valence - start_valence) / num_steps\n",
    "nrg_adj = (target_energy - start_energy) / num_steps\n",
    "print(f\"Per-step mood adjustments: valence += {val_adj:.2f}, energy += {nrg_adj:.2f}\")"
   ]
  },
  {
   "cell_type": "markdown",
   "id": "41efd341",
   "metadata": {},
   "source": [
    "**Extract track mood vectors (New)**\n",
    "\n",
    "Extract the mood features for each track.\n"
   ]
  },
  {
   "cell_type": "code",
   "execution_count": 15,
   "id": "79e7a24b",
   "metadata": {},
   "outputs": [
    {
     "name": "stdout",
     "output_type": "stream",
     "text": [
      "[[0.139  0.303 ]\n",
      " [0.515  0.454 ]\n",
      " [0.145  0.234 ]\n",
      " ...\n",
      " [0.0351 0.44  ]\n",
      " [0.202  0.405 ]\n",
      " [0.857  0.861 ]]\n"
     ]
    }
   ],
   "source": [
    "# Extract valence and energy values from all tracks\n",
    "track_mood_vectors = df[[\"valence\", \"energy\"]].values\n",
    "print(track_mood_vectors)"
   ]
  },
  {
   "cell_type": "markdown",
   "id": "92f1a726",
   "metadata": {},
   "source": [
    "**Create the user mood vector for Step n (New)**\n",
    "\n",
    "Calculate the user's target energy and valence for this step. This step is repeated up to the number of recommendations needed."
   ]
  },
  {
   "cell_type": "code",
   "execution_count": 16,
   "id": "34862b2c",
   "metadata": {},
   "outputs": [
    {
     "name": "stdout",
     "output_type": "stream",
     "text": [
      "[0.35 0.24]\n"
     ]
    }
   ],
   "source": [
    "# Set step number (n)\n",
    "step = 1\n",
    "\n",
    "# Gradually adjust target mood at each recommendation step\n",
    "step_valence = start_valence + val_adj * step\n",
    "step_energy = start_energy + nrg_adj * step\n",
    "step_vector = np.array([step_valence, step_energy])\n",
    "print(step_vector)"
   ]
  },
  {
   "cell_type": "markdown",
   "id": "c388d928",
   "metadata": {},
   "source": [
    "**Calculate similarity between user mood vector and track mood vectors (New)**\n",
    "\n",
    "Measure how similar each track is to the user's mood by comparing their feature vectors. The measure of similarity used is called \"Euclidean distance\".\n",
    "\n",
    "Geometrically, it is the straight-line distance between the two vectors. If two vectors are identical, the distance is 0, indicating perfect similarity. If they are completely different, the distance is the maximum possible value, indicating no similarity.  Euclidean distance is a measure of magnitude, not direction.  This is appropriate for comparing features like mood, because the intensity of the feature matters."
   ]
  },
  {
   "cell_type": "code",
   "execution_count": 17,
   "id": "3f099335",
   "metadata": {},
   "outputs": [
    {
     "name": "stdout",
     "output_type": "stream",
     "text": [
      "[2.90994049 1.87690435 2.26771205 ... 1.67042892 1.78037764 1.62363389]\n"
     ]
    }
   ],
   "source": [
    "# Calculate the Euclidean distance between the track mood and the current step's target mood\n",
    "distances = np.linalg.norm(track_vectors - step_vector, axis=1)\n",
    "print(distances)"
   ]
  },
  {
   "cell_type": "code",
   "execution_count": 18,
   "id": "195b0dd6",
   "metadata": {},
   "outputs": [
    {
     "name": "stdout",
     "output_type": "stream",
     "text": [
      "[0. 0. 0. ... 0. 0. 0.]\n"
     ]
    }
   ],
   "source": [
    "# Normalize distances to compute mood closeness (1 = exact match, 0 = no closeness).\n",
    "# Assumes valence and energy are both in [0, 1], so the maximum possible distance is sqrt(2).\n",
    "closeness = np.clip(1 - (distances / np.sqrt(2)), 0, 1)\n",
    "print(closeness)"
   ]
  },
  {
   "cell_type": "markdown",
   "id": "4d884d0d",
   "metadata": {},
   "source": [
    "**Combine scores for mood and non-mood features (New)**\n",
    "\n",
    "Combine the similarity scores with the mood closeness scores to get the final scores for each track."
   ]
  },
  {
   "cell_type": "code",
   "execution_count": 19,
   "id": "d2abdb67",
   "metadata": {},
   "outputs": [
    {
     "name": "stdout",
     "output_type": "stream",
     "text": [
      "[ 0.58514527  0.56529338  0.5760734  ... -0.49963474 -0.51444361\n",
      " -0.48772742]\n"
     ]
    }
   ],
   "source": [
    "# Combine similarity scores with mood closeness\n",
    "combined_scores = 0.6 * similarity_scores + 0.4 * closeness\n",
    "print(combined_scores)"
   ]
  },
  {
   "cell_type": "code",
   "execution_count": 20,
   "id": "027a8063",
   "metadata": {},
   "outputs": [
    {
     "name": "stdout",
     "output_type": "stream",
     "text": [
      "track_id              4fZV1JJngUyBJFuGpUHoLx\n",
      "track_name          You Could Be Mine - Live\n",
      "artist                                 Slash\n",
      "genre                                  Metal\n",
      "valence                                0.419\n",
      "energy                                 0.964\n",
      "popularity                          0.406228\n",
      "instrumentalness                    0.077492\n",
      "Name: 182374, dtype: object\n"
     ]
    }
   ],
   "source": [
    "# Select best track for this step\n",
    "best_index = int(np.argmax(combined_scores))\n",
    "recommendation1 = df.iloc[best_index]\n",
    "print(recommendation1)"
   ]
  }
 ],
 "metadata": {
  "colab": {
   "name": "Welcome to DataCamp Workspaces.ipynb",
   "provenance": []
  },
  "kernelspec": {
   "display_name": ".venv",
   "language": "python",
   "name": "python3"
  },
  "language_info": {
   "codemirror_mode": {
    "name": "ipython",
    "version": 3
   },
   "file_extension": ".py",
   "mimetype": "text/x-python",
   "name": "python",
   "nbconvert_exporter": "python",
   "pygments_lexer": "ipython3",
   "version": "3.12.7"
  }
 },
 "nbformat": 4,
 "nbformat_minor": 5
}
