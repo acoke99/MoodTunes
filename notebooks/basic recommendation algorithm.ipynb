{
 "cells": [
  {
   "cell_type": "markdown",
   "id": "a3c5de9a",
   "metadata": {},
   "source": [
    "## Basic recommendation algorithm ##\n"
   ]
  },
  {
   "cell_type": "markdown",
   "id": "b94ed4ca-bd55-4077-8360-8e8bbdcf213a",
   "metadata": {},
   "source": [
    "**Import libraries**\n",
    "\n",
    "Import the required libraries for data analysis and machine learning.\n"
   ]
  },
  {
   "cell_type": "code",
   "execution_count": 1,
   "id": "66669c41-a908-465c-a4ff-a53b5abc203f",
   "metadata": {
    "executionCancelledAt": null,
    "executionTime": 2216,
    "lastExecutedAt": 1745910599206,
    "lastExecutedByKernel": "3f6a50a6-55f0-4de0-8c84-2558e78470ac",
    "lastScheduledRunId": null,
    "lastSuccessfullyExecutedCode": "import numpy as np\nimport pandas as pd\nfrom sklearn.metrics.pairwise import cosine_similarity\nfrom sklearn.preprocessing import StandardScaler"
   },
   "outputs": [],
   "source": [
    "import numpy as np\n",
    "import pandas as pd\n",
    "from sklearn.metrics.pairwise import cosine_similarity\n",
    "from sklearn.preprocessing import StandardScaler"
   ]
  },
  {
   "cell_type": "markdown",
   "id": "a5bb604c-e216-44c4-994d-941a479a9a66",
   "metadata": {},
   "source": [
    "**Load data**\n",
    "\n",
    "Load selected columns from a CSV file into a DataFrame, rename some columns for consistency, and display the first few rows of the resulting data.\n"
   ]
  },
  {
   "cell_type": "code",
   "execution_count": 2,
   "id": "85a6cd44-bf5d-4a50-9c7b-e19e5020fba3",
   "metadata": {
    "executionCancelledAt": null,
    "executionTime": 1207,
    "lastExecutedAt": 1745910693889,
    "lastExecutedByKernel": "3f6a50a6-55f0-4de0-8c84-2558e78470ac",
    "lastScheduledRunId": null,
    "lastSuccessfullyExecutedCode": "# Select relevant columns\nusecols = [\"id\", \"name\", \"artists\", \"popularity\", \"energy\", \"instrumentalness\", \"valence\"]\n\n# Load and normalize the dataset\ndf = pd.read_csv('tracks.csv', usecols=usecols, dtype={'artists': 'object', 'popularity': 'float64'})\ndf.head(5)",
    "outputsMetadata": {
     "0": {
      "chartState": {
       "chartModel": {
        "cellRange": {
         "columns": [],
         "rowEndIndex": null,
         "rowEndPinned": null,
         "rowStartIndex": null,
         "rowStartPinned": null
        },
        "chartId": "id-a6w6kpfy146",
        "chartOptions": {
         "common": {
          "animation": {
           "enabled": true
          }
         }
        },
        "chartPalette": {
         "altDown": {
          "fill": "#ffa03a",
          "stroke": "#cc6f10"
         },
         "altNeutral": {
          "fill": "#b5b5b5",
          "stroke": "#575757"
         },
         "altUp": {
          "fill": "#5090dc",
          "stroke": "#2b5c95"
         },
         "down": {
          "fill": "#ef5452",
          "stroke": "#a82529"
         },
         "fills": [
          "#6568A0",
          "#43D7A4",
          "#4095DB",
          "#FACC5F",
          "#CAE279",
          "#F08083",
          "#5BCDF2",
          "#F099DC",
          "#965858",
          "#7DB64F",
          "#A98954"
         ],
         "neutral": {
          "fill": "#b5b5b5",
          "stroke": "#575757"
         },
         "strokes": [
          "#6568A0",
          "#43D7A4",
          "#4095DB",
          "#FACC5F",
          "#CAE279",
          "#F08083",
          "#5BCDF2",
          "#F099DC",
          "#965858",
          "#7DB64F",
          "#A98954"
         ],
         "up": {
          "fill": "#459d55",
          "stroke": "#1e652e"
         }
        },
        "chartThemeName": "datalabTheme",
        "chartType": "groupedColumn",
        "modelType": "range",
        "suppressChartRanges": false,
        "switchCategorySeries": false,
        "unlinkChart": false,
        "version": "32.2.2"
       },
       "rangeChartModel": {
        "rangeColumns": [],
        "switchCategorySeries": false
       }
      },
      "height": 550,
      "tableState": {
       "customFilter": {
        "const": {
         "type": "boolean",
         "valid": true,
         "value": true
        },
        "id": "084892cc-a936-4231-839f-acedf712a234",
        "nodeType": "const"
       },
       "quickFilterText": ""
      },
      "type": "dataFrame"
     }
    },
    "version": "ag-charts-v1",
    "visualizeDataframe": false
   },
   "outputs": [
    {
     "data": {
      "text/html": [
       "<div>\n",
       "<style scoped>\n",
       "    .dataframe tbody tr th:only-of-type {\n",
       "        vertical-align: middle;\n",
       "    }\n",
       "\n",
       "    .dataframe tbody tr th {\n",
       "        vertical-align: top;\n",
       "    }\n",
       "\n",
       "    .dataframe thead th {\n",
       "        text-align: right;\n",
       "    }\n",
       "</style>\n",
       "<table border=\"1\" class=\"dataframe\">\n",
       "  <thead>\n",
       "    <tr style=\"text-align: right;\">\n",
       "      <th></th>\n",
       "      <th>track_id</th>\n",
       "      <th>track_name</th>\n",
       "      <th>artist</th>\n",
       "      <th>genre</th>\n",
       "      <th>valence</th>\n",
       "      <th>energy</th>\n",
       "      <th>popularity</th>\n",
       "      <th>instrumentalness</th>\n",
       "    </tr>\n",
       "  </thead>\n",
       "  <tbody>\n",
       "    <tr>\n",
       "      <th>0</th>\n",
       "      <td>53QF56cjZA9RTuuMZDrSA6</td>\n",
       "      <td>I Won't Give Up</td>\n",
       "      <td>Jason Mraz</td>\n",
       "      <td>Folk</td>\n",
       "      <td>0.139</td>\n",
       "      <td>0.303</td>\n",
       "      <td>68.0</td>\n",
       "      <td>0.000000</td>\n",
       "    </tr>\n",
       "    <tr>\n",
       "      <th>1</th>\n",
       "      <td>1s8tP3jP4GZcyHDsjvw218</td>\n",
       "      <td>93 Million Miles</td>\n",
       "      <td>Jason Mraz</td>\n",
       "      <td>Folk</td>\n",
       "      <td>0.515</td>\n",
       "      <td>0.454</td>\n",
       "      <td>50.0</td>\n",
       "      <td>0.000014</td>\n",
       "    </tr>\n",
       "    <tr>\n",
       "      <th>2</th>\n",
       "      <td>7BRCa8MPiyuvr2VU3O9W0F</td>\n",
       "      <td>Do Not Let Me Go</td>\n",
       "      <td>Joshua Hyslop</td>\n",
       "      <td>Folk</td>\n",
       "      <td>0.145</td>\n",
       "      <td>0.234</td>\n",
       "      <td>57.0</td>\n",
       "      <td>0.000050</td>\n",
       "    </tr>\n",
       "    <tr>\n",
       "      <th>3</th>\n",
       "      <td>63wsZUhUZLlh1OsyrZq7sz</td>\n",
       "      <td>Fast Car</td>\n",
       "      <td>Boyce Avenue</td>\n",
       "      <td>Folk</td>\n",
       "      <td>0.508</td>\n",
       "      <td>0.251</td>\n",
       "      <td>58.0</td>\n",
       "      <td>0.000000</td>\n",
       "    </tr>\n",
       "    <tr>\n",
       "      <th>4</th>\n",
       "      <td>6nXIYClvJAfi6ujLiKqEq8</td>\n",
       "      <td>Sky's Still Blue</td>\n",
       "      <td>Andrew Belle</td>\n",
       "      <td>Folk</td>\n",
       "      <td>0.217</td>\n",
       "      <td>0.791</td>\n",
       "      <td>54.0</td>\n",
       "      <td>0.019300</td>\n",
       "    </tr>\n",
       "  </tbody>\n",
       "</table>\n",
       "</div>"
      ],
      "text/plain": [
       "                 track_id        track_name         artist genre  valence  \\\n",
       "0  53QF56cjZA9RTuuMZDrSA6   I Won't Give Up     Jason Mraz  Folk    0.139   \n",
       "1  1s8tP3jP4GZcyHDsjvw218  93 Million Miles     Jason Mraz  Folk    0.515   \n",
       "2  7BRCa8MPiyuvr2VU3O9W0F  Do Not Let Me Go  Joshua Hyslop  Folk    0.145   \n",
       "3  63wsZUhUZLlh1OsyrZq7sz          Fast Car   Boyce Avenue  Folk    0.508   \n",
       "4  6nXIYClvJAfi6ujLiKqEq8  Sky's Still Blue   Andrew Belle  Folk    0.217   \n",
       "\n",
       "   energy  popularity  instrumentalness  \n",
       "0   0.303        68.0          0.000000  \n",
       "1   0.454        50.0          0.000014  \n",
       "2   0.234        57.0          0.000050  \n",
       "3   0.251        58.0          0.000000  \n",
       "4   0.791        54.0          0.019300  "
      ]
     },
     "execution_count": 2,
     "metadata": {},
     "output_type": "execute_result"
    }
   ],
   "source": [
    "# Select relevant columns \n",
    "usecols = [\"track_id\", \"track_name\", \"artist_name\", \"new_genre\", \"popularity\", \"energy\", \"instrumentalness\", \"valence\"]\n",
    "\n",
    "# Load data file into a DataFrame\n",
    "df = pd.read_csv('../datasets/track_data.csv', usecols=usecols, dtype={'popularity': 'float64'})\n",
    "\n",
    "# Rename columns\n",
    "df.rename(columns={'artist_name': 'artist', 'new_genre': 'genre'}, inplace=True)\n",
    "\n",
    "# Display the first few rows \n",
    "df.head()"
   ]
  },
  {
   "cell_type": "markdown",
   "id": "df7b9265-03ab-46ca-a592-95ebbb16c76a",
   "metadata": {},
   "source": [
    "**Normalise data**\n",
    "\n",
    "Scale the numerical features in the DataFrame, so that they can be compared and treated equally.  Each feature will now have a mean of 0 and a standard deviation of 1.\n"
   ]
  },
  {
   "cell_type": "code",
   "execution_count": 3,
   "id": "a700342a-a155-43d7-b233-7fbfb7f572e2",
   "metadata": {
    "executionCancelledAt": null,
    "executionTime": 38,
    "lastExecutedAt": 1745910695723,
    "lastExecutedByKernel": "3f6a50a6-55f0-4de0-8c84-2558e78470ac",
    "lastScheduledRunId": null,
    "lastSuccessfullyExecutedCode": "# Normalise numerical features\nnumerical_features = [\"popularity\", \"energy\", \"instrumentalness\", \"valence\"]\nscaler = StandardScaler()\ndf.loc[:, numerical_features] = scaler.fit_transform(df[numerical_features].values)\ndf.head()",
    "outputsMetadata": {
     "0": {
      "height": 550,
      "tableState": {
       "customFilter": {
        "const": {
         "type": "boolean",
         "valid": true,
         "value": true
        },
        "id": "b5411fe0-d6ca-4673-861e-d72288b9b2d8",
        "nodeType": "const"
       },
       "quickFilterText": ""
      },
      "type": "dataFrame"
     }
    }
   },
   "outputs": [
    {
     "data": {
      "text/html": [
       "<div>\n",
       "<style scoped>\n",
       "    .dataframe tbody tr th:only-of-type {\n",
       "        vertical-align: middle;\n",
       "    }\n",
       "\n",
       "    .dataframe tbody tr th {\n",
       "        vertical-align: top;\n",
       "    }\n",
       "\n",
       "    .dataframe thead th {\n",
       "        text-align: right;\n",
       "    }\n",
       "</style>\n",
       "<table border=\"1\" class=\"dataframe\">\n",
       "  <thead>\n",
       "    <tr style=\"text-align: right;\">\n",
       "      <th></th>\n",
       "      <th>track_id</th>\n",
       "      <th>track_name</th>\n",
       "      <th>artist</th>\n",
       "      <th>genre</th>\n",
       "      <th>valence</th>\n",
       "      <th>energy</th>\n",
       "      <th>popularity</th>\n",
       "      <th>instrumentalness</th>\n",
       "    </tr>\n",
       "  </thead>\n",
       "  <tbody>\n",
       "    <tr>\n",
       "      <th>0</th>\n",
       "      <td>53QF56cjZA9RTuuMZDrSA6</td>\n",
       "      <td>I Won't Give Up</td>\n",
       "      <td>Jason Mraz</td>\n",
       "      <td>Folk</td>\n",
       "      <td>-1.173026</td>\n",
       "      <td>-1.242615</td>\n",
       "      <td>3.104013</td>\n",
       "      <td>-0.699768</td>\n",
       "    </tr>\n",
       "    <tr>\n",
       "      <th>1</th>\n",
       "      <td>1s8tP3jP4GZcyHDsjvw218</td>\n",
       "      <td>93 Million Miles</td>\n",
       "      <td>Jason Mraz</td>\n",
       "      <td>Folk</td>\n",
       "      <td>0.223382</td>\n",
       "      <td>-0.686037</td>\n",
       "      <td>1.974708</td>\n",
       "      <td>-0.699731</td>\n",
       "    </tr>\n",
       "    <tr>\n",
       "      <th>2</th>\n",
       "      <td>7BRCa8MPiyuvr2VU3O9W0F</td>\n",
       "      <td>Do Not Let Me Go</td>\n",
       "      <td>Joshua Hyslop</td>\n",
       "      <td>Folk</td>\n",
       "      <td>-1.150743</td>\n",
       "      <td>-1.496945</td>\n",
       "      <td>2.413882</td>\n",
       "      <td>-0.699632</td>\n",
       "    </tr>\n",
       "    <tr>\n",
       "      <th>3</th>\n",
       "      <td>63wsZUhUZLlh1OsyrZq7sz</td>\n",
       "      <td>Fast Car</td>\n",
       "      <td>Boyce Avenue</td>\n",
       "      <td>Folk</td>\n",
       "      <td>0.197385</td>\n",
       "      <td>-1.434284</td>\n",
       "      <td>2.476621</td>\n",
       "      <td>-0.699768</td>\n",
       "    </tr>\n",
       "    <tr>\n",
       "      <th>4</th>\n",
       "      <td>6nXIYClvJAfi6ujLiKqEq8</td>\n",
       "      <td>Sky's Still Blue</td>\n",
       "      <td>Andrew Belle</td>\n",
       "      <td>Folk</td>\n",
       "      <td>-0.883345</td>\n",
       "      <td>0.556127</td>\n",
       "      <td>2.225665</td>\n",
       "      <td>-0.647133</td>\n",
       "    </tr>\n",
       "  </tbody>\n",
       "</table>\n",
       "</div>"
      ],
      "text/plain": [
       "                 track_id        track_name         artist genre   valence  \\\n",
       "0  53QF56cjZA9RTuuMZDrSA6   I Won't Give Up     Jason Mraz  Folk -1.173026   \n",
       "1  1s8tP3jP4GZcyHDsjvw218  93 Million Miles     Jason Mraz  Folk  0.223382   \n",
       "2  7BRCa8MPiyuvr2VU3O9W0F  Do Not Let Me Go  Joshua Hyslop  Folk -1.150743   \n",
       "3  63wsZUhUZLlh1OsyrZq7sz          Fast Car   Boyce Avenue  Folk  0.197385   \n",
       "4  6nXIYClvJAfi6ujLiKqEq8  Sky's Still Blue   Andrew Belle  Folk -0.883345   \n",
       "\n",
       "     energy  popularity  instrumentalness  \n",
       "0 -1.242615    3.104013         -0.699768  \n",
       "1 -0.686037    1.974708         -0.699731  \n",
       "2 -1.496945    2.413882         -0.699632  \n",
       "3 -1.434284    2.476621         -0.699768  \n",
       "4  0.556127    2.225665         -0.647133  "
      ]
     },
     "execution_count": 3,
     "metadata": {},
     "output_type": "execute_result"
    }
   ],
   "source": [
    "# Normalise numerical features\n",
    "numerical_features = [\"popularity\", \"energy\", \"instrumentalness\", \"valence\"]\n",
    "scaler = StandardScaler()\n",
    "df.loc[:, numerical_features] = scaler.fit_transform(df[numerical_features].values)\n",
    "df.head()"
   ]
  },
  {
   "cell_type": "markdown",
   "id": "a8bbc88c-b2ab-49fe-b9a4-853a9d310c24",
   "metadata": {
    "collapsed": false,
    "jupyter": {
     "outputs_hidden": false,
     "source_hidden": false
    }
   },
   "source": [
    "**Setup user preferences**\n",
    "\n",
    "Setup user preferences for the recommendation algorithm."
   ]
  },
  {
   "cell_type": "code",
   "execution_count": 4,
   "id": "1c2d6531-d3b9-426b-a12e-312ddbfd7a82",
   "metadata": {
    "executionCancelledAt": null,
    "executionTime": 10,
    "lastExecutedAt": 1745910713338,
    "lastExecutedByKernel": "3f6a50a6-55f0-4de0-8c84-2558e78470ac",
    "lastScheduledRunId": null,
    "lastSuccessfullyExecutedCode": "# Set values for user profile\nuser_profile = {\n    \"popularity\": 80,\n    \"energy\": 0.5,\n    \"instrumentalness\": 0.1,\n    \"valence\": 0.5,\n    \"preferred_artists\": ['Ed Sheeran', 'Coldplay'],\n}"
   },
   "outputs": [],
   "source": [
    "# Setup user preferences\n",
    "preferences = {\n",
    "    \"popularity\": 80,\n",
    "    \"energy\": 0.5,\n",
    "    \"instrumentalness\": 0.1,\n",
    "    \"valence\": 0.5,\n",
    "    \"genres\": ['Pop', 'Rock'],\n",
    "    \"artists\": ['Ed Sheeran', 'Coldplay'],\n",
    "}"
   ]
  },
  {
   "cell_type": "markdown",
   "id": "cad78b90",
   "metadata": {},
   "source": [
    "**Filter dataset by genre**\n",
    "\n",
    "Filter the dataset based on the user's genre preferences."
   ]
  },
  {
   "cell_type": "code",
   "execution_count": 5,
   "id": "0137e16f",
   "metadata": {},
   "outputs": [
    {
     "data": {
      "text/plain": [
       "0    False\n",
       "1    False\n",
       "2    False\n",
       "3    False\n",
       "4    False\n",
       "Name: genre, dtype: bool"
      ]
     },
     "execution_count": 5,
     "metadata": {},
     "output_type": "execute_result"
    }
   ],
   "source": [
    "# Create a boolean mask for matching genres\n",
    "genre_mask = df['genre'].isin(preferences['genres'])  \n",
    "genre_mask.head()"
   ]
  },
  {
   "cell_type": "code",
   "execution_count": 6,
   "id": "0f766060",
   "metadata": {},
   "outputs": [
    {
     "data": {
      "text/html": [
       "<div>\n",
       "<style scoped>\n",
       "    .dataframe tbody tr th:only-of-type {\n",
       "        vertical-align: middle;\n",
       "    }\n",
       "\n",
       "    .dataframe tbody tr th {\n",
       "        vertical-align: top;\n",
       "    }\n",
       "\n",
       "    .dataframe thead th {\n",
       "        text-align: right;\n",
       "    }\n",
       "</style>\n",
       "<table border=\"1\" class=\"dataframe\">\n",
       "  <thead>\n",
       "    <tr style=\"text-align: right;\">\n",
       "      <th></th>\n",
       "      <th>track_id</th>\n",
       "      <th>track_name</th>\n",
       "      <th>artist</th>\n",
       "      <th>genre</th>\n",
       "      <th>valence</th>\n",
       "      <th>energy</th>\n",
       "      <th>popularity</th>\n",
       "      <th>instrumentalness</th>\n",
       "    </tr>\n",
       "  </thead>\n",
       "  <tbody>\n",
       "    <tr>\n",
       "      <th>1770</th>\n",
       "      <td>2iUmqdfGZcHIhS3b9E9EWq</td>\n",
       "      <td>Everybody Talks</td>\n",
       "      <td>Neon Trees</td>\n",
       "      <td>Rock</td>\n",
       "      <td>1.003290</td>\n",
       "      <td>1.046358</td>\n",
       "      <td>3.668666</td>\n",
       "      <td>-0.699768</td>\n",
       "    </tr>\n",
       "    <tr>\n",
       "      <th>1771</th>\n",
       "      <td>4FEr6dIdH6EqLKR0jB560J</td>\n",
       "      <td>Rosemary</td>\n",
       "      <td>Deftones</td>\n",
       "      <td>Rock</td>\n",
       "      <td>-1.402542</td>\n",
       "      <td>-0.099971</td>\n",
       "      <td>3.292231</td>\n",
       "      <td>-0.427045</td>\n",
       "    </tr>\n",
       "    <tr>\n",
       "      <th>1772</th>\n",
       "      <td>1RTYixE1DD3g3upEpmCJpa</td>\n",
       "      <td>In The End</td>\n",
       "      <td>Black Veil Brides</td>\n",
       "      <td>Rock</td>\n",
       "      <td>-0.686511</td>\n",
       "      <td>1.101647</td>\n",
       "      <td>3.104013</td>\n",
       "      <td>-0.683705</td>\n",
       "    </tr>\n",
       "    <tr>\n",
       "      <th>1773</th>\n",
       "      <td>0AOmbw8AwDnwXhHC3OhdVB</td>\n",
       "      <td>Courtesy Call</td>\n",
       "      <td>Thousand Foot Krutch</td>\n",
       "      <td>Rock</td>\n",
       "      <td>-0.036588</td>\n",
       "      <td>-0.007823</td>\n",
       "      <td>3.292231</td>\n",
       "      <td>-0.699768</td>\n",
       "    </tr>\n",
       "    <tr>\n",
       "      <th>1774</th>\n",
       "      <td>4bLCPfBLKlqiONo6TALTh5</td>\n",
       "      <td>Entombed</td>\n",
       "      <td>Deftones</td>\n",
       "      <td>Rock</td>\n",
       "      <td>-1.069038</td>\n",
       "      <td>0.416061</td>\n",
       "      <td>2.915796</td>\n",
       "      <td>-0.350683</td>\n",
       "    </tr>\n",
       "  </tbody>\n",
       "</table>\n",
       "</div>"
      ],
      "text/plain": [
       "                    track_id       track_name                artist genre  \\\n",
       "1770  2iUmqdfGZcHIhS3b9E9EWq  Everybody Talks            Neon Trees  Rock   \n",
       "1771  4FEr6dIdH6EqLKR0jB560J         Rosemary              Deftones  Rock   \n",
       "1772  1RTYixE1DD3g3upEpmCJpa       In The End     Black Veil Brides  Rock   \n",
       "1773  0AOmbw8AwDnwXhHC3OhdVB    Courtesy Call  Thousand Foot Krutch  Rock   \n",
       "1774  4bLCPfBLKlqiONo6TALTh5         Entombed              Deftones  Rock   \n",
       "\n",
       "       valence    energy  popularity  instrumentalness  \n",
       "1770  1.003290  1.046358    3.668666         -0.699768  \n",
       "1771 -1.402542 -0.099971    3.292231         -0.427045  \n",
       "1772 -0.686511  1.101647    3.104013         -0.683705  \n",
       "1773 -0.036588 -0.007823    3.292231         -0.699768  \n",
       "1774 -1.069038  0.416061    2.915796         -0.350683  "
      ]
     },
     "execution_count": 6,
     "metadata": {},
     "output_type": "execute_result"
    }
   ],
   "source": [
    "# Use the mask to filter and copy the DataFrame\n",
    "filtered_df = df[genre_mask].copy()                   \n",
    "\n",
    "# Display the filtered DataFrame\n",
    "filtered_df.head()"
   ]
  },
  {
   "cell_type": "markdown",
   "id": "846b7d55-9001-4da2-897a-26386af20645",
   "metadata": {},
   "source": [
    "**Create user vector**\n",
    "\n",
    "Create a list of the user's preferences, focusing on the numerical features only. We use only numerical features because they can be **directly** compared using math, while non-numeric features like genre or artist cannot."
   ]
  },
  {
   "cell_type": "code",
   "execution_count": 7,
   "id": "418e6320-ce14-4ef5-ba39-819fa851a22b",
   "metadata": {
    "executionCancelledAt": null,
    "executionTime": 10,
    "lastExecutedAt": 1745910725122,
    "lastExecutedByKernel": "3f6a50a6-55f0-4de0-8c84-2558e78470ac",
    "lastScheduledRunId": null,
    "lastSuccessfullyExecutedCode": "user_feature_vector = [\n    user_profile[\"popularity\"],\n    user_profile[\"energy\"],\n    user_profile[\"instrumentalness\"],\n    user_profile[\"valence\"]\n]\n\nuser_feature_vector_scaled = scaler.transform([user_feature_vector])[0]\nprint(user_feature_vector_scaled)",
    "outputsMetadata": {
     "0": {
      "height": 38,
      "type": "stream"
     }
    }
   },
   "outputs": [
    {
     "name": "stdout",
     "output_type": "stream",
     "text": [
      "[80, 0.5, 0.1, 0.5]\n"
     ]
    }
   ],
   "source": [
    "# Create user vector\n",
    "user_vector = [preferences[feature] for feature in numerical_features]\n",
    "print(user_vector)"
   ]
  },
  {
   "cell_type": "markdown",
   "id": "a8f833ac",
   "metadata": {},
   "source": [
    "**Normalise user vector**\n",
    "\n",
    "Scale the user's vector, so that it can be compared to the song data."
   ]
  },
  {
   "cell_type": "code",
   "execution_count": 8,
   "id": "3d0c125e-8240-45bb-a187-14b4e3697162",
   "metadata": {
    "executionCancelledAt": null,
    "executionTime": 48,
    "lastExecutedAt": 1745910746299,
    "lastExecutedByKernel": "3f6a50a6-55f0-4de0-8c84-2558e78470ac",
    "lastScheduledRunId": null,
    "lastSuccessfullyExecutedCode": "# Set features to be ignored for recommendations (optional)\nignored_features = ['instrumentalness']\n\nignore_indices = [numerical_features.index(feature) for feature in ignored_features]\n\nfor index in ignore_indices:\n    user_feature_vector_scaled[index] = 0.0\n        \nprint(user_feature_vector_scaled)",
    "outputsMetadata": {
     "0": {
      "height": 38,
      "type": "stream"
     }
    }
   },
   "outputs": [
    {
     "name": "stdout",
     "output_type": "stream",
     "text": [
      "[ 3.85688358 -0.51648326 -0.42704533  0.16767413]\n"
     ]
    }
   ],
   "source": [
    "# Scale the user vector using the same scaler as the dataset\n",
    "user_vector_scaled = scaler.transform([user_vector])[0]\n",
    "print(user_vector_scaled)"
   ]
  },
  {
   "cell_type": "markdown",
   "id": "c7bc159c",
   "metadata": {},
   "source": [
    "**Extract track vectors**\n",
    "\n",
    "Extract the numerical features for each track."
   ]
  },
  {
   "cell_type": "code",
   "execution_count": 9,
   "id": "c7e8fba7-6433-4da2-8c36-84b1a7f66eef",
   "metadata": {
    "executionCancelledAt": null,
    "executionTime": 11,
    "lastExecutedAt": 1745910752627,
    "lastExecutedByKernel": "3f6a50a6-55f0-4de0-8c84-2558e78470ac",
    "lastScheduledRunId": null,
    "lastSuccessfullyExecutedCode": "# Extract feature matrix\nfeature_matrix = df[numerical_features].values\nprint(feature_matrix)",
    "outputsMetadata": {
     "0": {
      "height": 164,
      "type": "stream"
     }
    }
   },
   "outputs": [
    {
     "name": "stdout",
     "output_type": "stream",
     "text": [
      "[[ 3.10401332 -1.24261459 -0.69976823 -1.17302569]\n",
      " [ 1.97470792 -0.68603677 -0.69973087  0.22338188]\n",
      " [ 2.41388224 -1.49694486 -0.69963187 -1.15074259]\n",
      " ...\n",
      " [-1.03677314 -0.73764001 -0.691232   -1.5588947 ]\n",
      " [-1.16225152 -0.86664812 -0.6995956  -0.93905315]\n",
      " [-0.97403395  0.81414319 -0.69974524  1.49351856]]\n"
     ]
    }
   ],
   "source": [
    "# Extract track vectors\n",
    "track_vectors = df[numerical_features].values\n",
    "print(track_vectors)"
   ]
  },
  {
   "cell_type": "markdown",
   "id": "c9f462d8-05f7-406b-bf6d-36980bb6d0f6",
   "metadata": {},
   "source": [
    "**Calculate similarity between user vector and track vectors**\n",
    "\n",
    "Measure how similar each track is to the user's preferences by comparing their feature vectors. The measure of similarity used is called \"cosine similarity\".\n",
    "\n",
    "Geometrically, it is the cosine of the angle between the two vectors. If two vectors are identical, the angle is 0 and the cosine is 1, indicating perfect similarity. If they are completely different, the angle is 90 degrees and the cosine is 0, indicating no similarity. Cosine similarity is a measure of orientation, not magnitude."
   ]
  },
  {
   "cell_type": "code",
   "execution_count": 10,
   "id": "15df5792-1d41-4fe7-9845-84333ffe682a",
   "metadata": {
    "executionCancelledAt": null,
    "executionTime": 78,
    "lastExecutedAt": 1745910762757,
    "lastExecutedByKernel": "3f6a50a6-55f0-4de0-8c84-2558e78470ac",
    "lastScheduledRunId": null,
    "lastSuccessfullyExecutedCode": "# Calculate similarity between track features and user features\nsimilarity_matrix = cosine_similarity(feature_matrix, [user_feature_vector_scaled])\nprint(similarity_matrix)",
    "outputsMetadata": {
     "0": {
      "height": 164,
      "type": "stream"
     }
    }
   },
   "outputs": [
    {
     "name": "stdout",
     "output_type": "stream",
     "text": [
      "[ 0.85496718  0.88947064  0.76233236 ... -0.49441418 -0.63014501\n",
      " -0.46146504]\n"
     ]
    }
   ],
   "source": [
    "# Calculate similarity between user vector and track vectors\n",
    "similarity_matrix = cosine_similarity(track_vectors, [user_vector])\n",
    "similarity_scores = similarity_matrix.flatten()\n",
    "print(similarity_scores)"
   ]
  },
  {
   "cell_type": "markdown",
   "id": "9e62c640-387a-433d-874a-45e489b773ad",
   "metadata": {},
   "source": [
    "**Boost similarity scores for preferred artists**\n",
    "\n",
    "Boost similarity scores for tracks by preferred artists. If a track is by a preferred artist, its similarity score is increased (e.g. by 30%) to make it more likely to be recommended."
   ]
  },
  {
   "cell_type": "code",
   "execution_count": 11,
   "id": "dabcdd8e-7f49-4efa-a258-12e17f3dccaf",
   "metadata": {
    "executionCancelledAt": null,
    "executionTime": 453,
    "lastExecutedAt": 1745910769129,
    "lastExecutedByKernel": "3f6a50a6-55f0-4de0-8c84-2558e78470ac",
    "lastScheduledRunId": null,
    "lastSuccessfullyExecutedCode": "# Check if any preferred artist is in the artist list\npreferred_artists = user_profile['preferred_artists']\nartist_matches = df['artists'].apply(lambda artist_list: any(artist in artist_list for artist in preferred_artists))\n\n# Display result\ntrue_artist_matches = artist_matches[artist_matches==True]\nprint(true_artist_matches)",
    "outputsMetadata": {
     "0": {
      "height": 269,
      "type": "stream"
     },
     "1": {
      "height": 550,
      "tableState": {
       "customFilter": {
        "const": {
         "type": "boolean",
         "valid": true,
         "value": true
        },
        "id": "b5411fe0-d6ca-4673-861e-d72288b9b2d8",
        "nodeType": "const"
       },
       "quickFilterText": ""
      },
      "type": "dataFrame"
     }
    }
   },
   "outputs": [
    {
     "data": {
      "text/plain": [
       "0    False\n",
       "1    False\n",
       "2    False\n",
       "3    False\n",
       "4    False\n",
       "Name: artist, dtype: bool"
      ]
     },
     "execution_count": 11,
     "metadata": {},
     "output_type": "execute_result"
    }
   ],
   "source": [
    "# Create a boolean mask for matching artists\n",
    "artist_matches = df['artist'].isin(preferences['artists'])  \n",
    "artist_matches.head()"
   ]
  },
  {
   "cell_type": "code",
   "execution_count": 12,
   "id": "94ba5c08-7deb-49fe-b8e9-1ff38ea135fb",
   "metadata": {
    "executionCancelledAt": null,
    "executionTime": 26,
    "lastExecutedAt": 1745910789209,
    "lastExecutedByKernel": "3f6a50a6-55f0-4de0-8c84-2558e78470ac",
    "lastScheduledRunId": null,
    "lastSuccessfullyExecutedCode": "# Show tracks for these artists\ndf.iloc[true_artist_matches.index]",
    "outputsMetadata": {
     "0": {
      "height": 550,
      "tableState": {
       "customFilter": {
        "const": {
         "type": "boolean",
         "valid": true,
         "value": true
        },
        "id": "b5411fe0-d6ca-4673-861e-d72288b9b2d8",
        "nodeType": "const"
       },
       "quickFilterText": ""
      },
      "type": "dataFrame"
     }
    }
   },
   "outputs": [
    {
     "data": {
      "text/html": [
       "<div>\n",
       "<style scoped>\n",
       "    .dataframe tbody tr th:only-of-type {\n",
       "        vertical-align: middle;\n",
       "    }\n",
       "\n",
       "    .dataframe tbody tr th {\n",
       "        vertical-align: top;\n",
       "    }\n",
       "\n",
       "    .dataframe thead th {\n",
       "        text-align: right;\n",
       "    }\n",
       "</style>\n",
       "<table border=\"1\" class=\"dataframe\">\n",
       "  <thead>\n",
       "    <tr style=\"text-align: right;\">\n",
       "      <th></th>\n",
       "      <th>track_id</th>\n",
       "      <th>track_name</th>\n",
       "      <th>artist</th>\n",
       "      <th>genre</th>\n",
       "      <th>valence</th>\n",
       "      <th>energy</th>\n",
       "      <th>popularity</th>\n",
       "      <th>instrumentalness</th>\n",
       "    </tr>\n",
       "  </thead>\n",
       "  <tbody>\n",
       "    <tr>\n",
       "      <th>39647</th>\n",
       "      <td>0pjMTISKHTJkogN1BPZxaC</td>\n",
       "      <td>Paradise - Tiësto Remix</td>\n",
       "      <td>Coldplay</td>\n",
       "      <td>Pop</td>\n",
       "      <td>0.698755</td>\n",
       "      <td>0.353400</td>\n",
       "      <td>2.037447</td>\n",
       "      <td>-0.317956</td>\n",
       "    </tr>\n",
       "    <tr>\n",
       "      <th>91634</th>\n",
       "      <td>6fxVffaTuwjgEk5h9QyRjy</td>\n",
       "      <td>Photograph</td>\n",
       "      <td>Ed Sheeran</td>\n",
       "      <td>Pop</td>\n",
       "      <td>-0.942767</td>\n",
       "      <td>-0.962483</td>\n",
       "      <td>2.853057</td>\n",
       "      <td>-0.698503</td>\n",
       "    </tr>\n",
       "    <tr>\n",
       "      <th>91636</th>\n",
       "      <td>1Slwb6dOYkBlWal1PGtnNg</td>\n",
       "      <td>Thinking out Loud</td>\n",
       "      <td>Ed Sheeran</td>\n",
       "      <td>Pop</td>\n",
       "      <td>0.505634</td>\n",
       "      <td>-0.719210</td>\n",
       "      <td>2.853057</td>\n",
       "      <td>-0.699768</td>\n",
       "    </tr>\n",
       "    <tr>\n",
       "      <th>91649</th>\n",
       "      <td>1fu5IQSRgPxJL2OTP7FVLW</td>\n",
       "      <td>I See Fire</td>\n",
       "      <td>Ed Sheeran</td>\n",
       "      <td>Pop</td>\n",
       "      <td>-0.931625</td>\n",
       "      <td>-2.168156</td>\n",
       "      <td>2.476621</td>\n",
       "      <td>-0.699768</td>\n",
       "    </tr>\n",
       "    <tr>\n",
       "      <th>91680</th>\n",
       "      <td>3Th56VIq2sEaEmPPETu7p5</td>\n",
       "      <td>All of the Stars</td>\n",
       "      <td>Ed Sheeran</td>\n",
       "      <td>Pop</td>\n",
       "      <td>-0.623376</td>\n",
       "      <td>-0.306384</td>\n",
       "      <td>2.162925</td>\n",
       "      <td>-0.699272</td>\n",
       "    </tr>\n",
       "  </tbody>\n",
       "</table>\n",
       "</div>"
      ],
      "text/plain": [
       "                     track_id               track_name      artist genre  \\\n",
       "39647  0pjMTISKHTJkogN1BPZxaC  Paradise - Tiësto Remix    Coldplay   Pop   \n",
       "91634  6fxVffaTuwjgEk5h9QyRjy               Photograph  Ed Sheeran   Pop   \n",
       "91636  1Slwb6dOYkBlWal1PGtnNg        Thinking out Loud  Ed Sheeran   Pop   \n",
       "91649  1fu5IQSRgPxJL2OTP7FVLW               I See Fire  Ed Sheeran   Pop   \n",
       "91680  3Th56VIq2sEaEmPPETu7p5         All of the Stars  Ed Sheeran   Pop   \n",
       "\n",
       "        valence    energy  popularity  instrumentalness  \n",
       "39647  0.698755  0.353400    2.037447         -0.317956  \n",
       "91634 -0.942767 -0.962483    2.853057         -0.698503  \n",
       "91636  0.505634 -0.719210    2.853057         -0.699768  \n",
       "91649 -0.931625 -2.168156    2.476621         -0.699768  \n",
       "91680 -0.623376 -0.306384    2.162925         -0.699272  "
      ]
     },
     "execution_count": 12,
     "metadata": {},
     "output_type": "execute_result"
    }
   ],
   "source": [
    "# Show tracks for matching artists\n",
    "df[artist_matches].head()"
   ]
  },
  {
   "cell_type": "code",
   "execution_count": 13,
   "id": "120cbc2f-de60-4be7-b264-245cb3eeea81",
   "metadata": {
    "executionCancelledAt": null,
    "executionTime": 12,
    "lastExecutedAt": 1745910797433,
    "lastExecutedByKernel": "3f6a50a6-55f0-4de0-8c84-2558e78470ac",
    "lastScheduledRunId": null,
    "lastSuccessfullyExecutedCode": "# Boost factor - this can be tweaked.\n# A factor of 1.3 means that a preferred artist is 30% more likely to be recommended.\nboost_factor = 1.3\n\n# Multiply by boost factor where matches are found, and by 1 otherwise\nboost_values = 1 + (artist_matches.values.reshape(-1, 1) * (boost_factor - 1))\nsimilarity_matrix_with_boost = similarity_matrix * boost_values\nprint(similarity_matrix)",
    "outputsMetadata": {
     "0": {
      "height": 164,
      "type": "stream"
     }
    }
   },
   "outputs": [
    {
     "name": "stdout",
     "output_type": "stream",
     "text": [
      "[ 0.85496718  0.88947064  0.76233236 ... -0.49441418 -0.63014501\n",
      " -0.46146504]\n"
     ]
    }
   ],
   "source": [
    "# Boost factor - this can be tweaked.\n",
    "# A factor of 1.3 means that a preferred artist is 30% more likely to be recommended.\n",
    "boost_factor = 1.3\n",
    "\n",
    "# Boost scores for tracks by matching artists\n",
    "similarity_scores *= (artist_matches.values * (boost_factor - 1)) + 1\n",
    "print(similarity_scores)"
   ]
  },
  {
   "cell_type": "markdown",
   "id": "718bfdf3-0b5a-455f-ad55-1d4dfcf99629",
   "metadata": {},
   "source": [
    "**Recommend songs**\n",
    "\n",
    "Return a list of the top N songs based on the similarity scores.\n"
   ]
  },
  {
   "cell_type": "code",
   "execution_count": 14,
   "id": "77e065a9-5a23-42a2-a1b7-fd07653e1bca",
   "metadata": {
    "executionCancelledAt": null,
    "executionTime": 74,
    "lastExecutedAt": 1745910800751,
    "lastExecutedByKernel": "3f6a50a6-55f0-4de0-8c84-2558e78470ac",
    "lastScheduledRunId": null,
    "lastSuccessfullyExecutedCode": "# Recommend top N songs based on the similarity matrix\ntop_n = 10\n\n# Flatten the similarity matrix\nflattened = similarity_matrix_with_boost.flatten()\n\n# Get the indices of the top N scores\ntop_track_indices = np.argsort(-flattened)[:top_n]\n\n# Select the top N recommendations\nrecommendations = df.iloc[top_track_indices][[\"name\", \"artists\", \"id\"]]\nprint(recommendations)",
    "outputsMetadata": {
     "0": {
      "height": 290,
      "type": "stream"
     }
    }
   },
   "outputs": [
    {
     "name": "stdout",
     "output_type": "stream",
     "text": [
      "[ 505879  193625  641658  558753  398633 1128126 1128155  558592  287641\n",
      " 1128142]\n"
     ]
    }
   ],
   "source": [
    "# Recommend top N songs based on the similarity scores\n",
    "top_n = 10\n",
    "\n",
    "# Get the indices of the top N scores\n",
    "top_track_indices = np.argsort(-similarity_scores)[:top_n]\n",
    "print(top_track_indices)"
   ]
  },
  {
   "cell_type": "code",
   "execution_count": 15,
   "id": "f1ccbbde",
   "metadata": {},
   "outputs": [
    {
     "name": "stdout",
     "output_type": "stream",
     "text": [
      "                              track_name      artist                track_id\n",
      "505879                       My Universe    Coldplay  3FeVmId7tL5YN8B7R3imoM\n",
      "193625              Hymn for the Weekend    Coldplay  3RiPr603aXAoi4GHyXx0uy\n",
      "641658                       Don't Panic    Coldplay  2QhURnm7mQDxBb5jWkbDug\n",
      "558753            2step (feat. Lil Baby)  Ed Sheeran  2UN0lp72LAusrXi8LLVomt\n",
      "398633   Beautiful People (feat. Khalid)  Ed Sheeran  70eFcWOvlMObDhURTqT4Fv\n",
      "1128126                       Lego House  Ed Sheeran  5ubHAQtKuFfiG4FXfLP804\n",
      "1128155                            Drunk  Ed Sheeran  4RnCPWlBsY7oUDdyruod7Y\n",
      "558592                         Celestial  Ed Sheeran  4zrKN5Sv8JS5mqnbVcsul7\n",
      "287641                Castle on the Hill  Ed Sheeran  6PCUP3dWmTjcTtXY02oFdT\n",
      "1128142    Every Teardrop Is a Waterfall    Coldplay  2U8g9wVcUu9wsg6i7sFSv8\n"
     ]
    }
   ],
   "source": [
    "# Select the top N recommendations\n",
    "recommendations = df.iloc[top_track_indices][[\"track_name\", \"artist\", \"track_id\"]]\n",
    "print(recommendations)"
   ]
  }
 ],
 "metadata": {
  "colab": {
   "name": "Welcome to DataCamp Workspaces.ipynb",
   "provenance": []
  },
  "kernelspec": {
   "display_name": ".venv",
   "language": "python",
   "name": "python3"
  },
  "language_info": {
   "codemirror_mode": {
    "name": "ipython",
    "version": 3
   },
   "file_extension": ".py",
   "mimetype": "text/x-python",
   "name": "python",
   "nbconvert_exporter": "python",
   "pygments_lexer": "ipython3",
   "version": "3.12.7"
  }
 },
 "nbformat": 4,
 "nbformat_minor": 5
}
