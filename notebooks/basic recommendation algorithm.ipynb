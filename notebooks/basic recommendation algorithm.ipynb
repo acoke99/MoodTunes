{
 "cells": [
  {
   "cell_type": "markdown",
   "id": "a3c5de9a",
   "metadata": {},
   "source": [
    "## Basic recommendation algorithm ##\n"
   ]
  },
  {
   "cell_type": "markdown",
   "id": "b94ed4ca-bd55-4077-8360-8e8bbdcf213a",
   "metadata": {},
   "source": [
    "**Import libraries**\n",
    "\n",
    "Import the required libraries for data analysis and machine learning.\n"
   ]
  },
  {
   "cell_type": "code",
   "execution_count": 1,
   "id": "66669c41-a908-465c-a4ff-a53b5abc203f",
   "metadata": {
    "executionCancelledAt": null,
    "executionTime": 2216,
    "lastExecutedAt": 1745910599206,
    "lastExecutedByKernel": "3f6a50a6-55f0-4de0-8c84-2558e78470ac",
    "lastScheduledRunId": null,
    "lastSuccessfullyExecutedCode": "import numpy as np\nimport pandas as pd\nfrom sklearn.metrics.pairwise import cosine_similarity\nfrom sklearn.preprocessing import StandardScaler"
   },
   "outputs": [],
   "source": [
    "import numpy as np\n",
    "import pandas as pd\n",
    "from sklearn.metrics.pairwise import cosine_similarity\n",
    "from sklearn.preprocessing import StandardScaler"
   ]
  },
  {
   "cell_type": "markdown",
   "id": "a5bb604c-e216-44c4-994d-941a479a9a66",
   "metadata": {},
   "source": [
    "**Load data**\n",
    "\n",
    "Load selected columns from a CSV file into a DataFrame, rename some columns for consistency, and display the first few rows of the resulting data.\n"
   ]
  },
  {
   "cell_type": "code",
   "execution_count": 2,
   "id": "85a6cd44-bf5d-4a50-9c7b-e19e5020fba3",
   "metadata": {
    "executionCancelledAt": null,
    "executionTime": 1207,
    "lastExecutedAt": 1745910693889,
    "lastExecutedByKernel": "3f6a50a6-55f0-4de0-8c84-2558e78470ac",
    "lastScheduledRunId": null,
    "lastSuccessfullyExecutedCode": "# Select relevant columns\nusecols = [\"id\", \"name\", \"artists\", \"popularity\", \"energy\", \"instrumentalness\", \"valence\"]\n\n# Load and normalize the dataset\ndf = pd.read_csv('tracks.csv', usecols=usecols, dtype={'artists': 'object', 'popularity': 'float64'})\ndf.head(5)",
    "outputsMetadata": {
     "0": {
      "chartState": {
       "chartModel": {
        "cellRange": {
         "columns": [],
         "rowEndIndex": null,
         "rowEndPinned": null,
         "rowStartIndex": null,
         "rowStartPinned": null
        },
        "chartId": "id-a6w6kpfy146",
        "chartOptions": {
         "common": {
          "animation": {
           "enabled": true
          }
         }
        },
        "chartPalette": {
         "altDown": {
          "fill": "#ffa03a",
          "stroke": "#cc6f10"
         },
         "altNeutral": {
          "fill": "#b5b5b5",
          "stroke": "#575757"
         },
         "altUp": {
          "fill": "#5090dc",
          "stroke": "#2b5c95"
         },
         "down": {
          "fill": "#ef5452",
          "stroke": "#a82529"
         },
         "fills": [
          "#6568A0",
          "#43D7A4",
          "#4095DB",
          "#FACC5F",
          "#CAE279",
          "#F08083",
          "#5BCDF2",
          "#F099DC",
          "#965858",
          "#7DB64F",
          "#A98954"
         ],
         "neutral": {
          "fill": "#b5b5b5",
          "stroke": "#575757"
         },
         "strokes": [
          "#6568A0",
          "#43D7A4",
          "#4095DB",
          "#FACC5F",
          "#CAE279",
          "#F08083",
          "#5BCDF2",
          "#F099DC",
          "#965858",
          "#7DB64F",
          "#A98954"
         ],
         "up": {
          "fill": "#459d55",
          "stroke": "#1e652e"
         }
        },
        "chartThemeName": "datalabTheme",
        "chartType": "groupedColumn",
        "modelType": "range",
        "suppressChartRanges": false,
        "switchCategorySeries": false,
        "unlinkChart": false,
        "version": "32.2.2"
       },
       "rangeChartModel": {
        "rangeColumns": [],
        "switchCategorySeries": false
       }
      },
      "height": 550,
      "tableState": {
       "customFilter": {
        "const": {
         "type": "boolean",
         "valid": true,
         "value": true
        },
        "id": "084892cc-a936-4231-839f-acedf712a234",
        "nodeType": "const"
       },
       "quickFilterText": ""
      },
      "type": "dataFrame"
     }
    },
    "version": "ag-charts-v1",
    "visualizeDataframe": false
   },
   "outputs": [
    {
     "data": {
      "text/html": [
       "<div>\n",
       "<style scoped>\n",
       "    .dataframe tbody tr th:only-of-type {\n",
       "        vertical-align: middle;\n",
       "    }\n",
       "\n",
       "    .dataframe tbody tr th {\n",
       "        vertical-align: top;\n",
       "    }\n",
       "\n",
       "    .dataframe thead th {\n",
       "        text-align: right;\n",
       "    }\n",
       "</style>\n",
       "<table border=\"1\" class=\"dataframe\">\n",
       "  <thead>\n",
       "    <tr style=\"text-align: right;\">\n",
       "      <th></th>\n",
       "      <th>artist</th>\n",
       "      <th>track_name</th>\n",
       "      <th>track_id</th>\n",
       "      <th>popularity</th>\n",
       "      <th>energy</th>\n",
       "      <th>instrumentalness</th>\n",
       "      <th>valence</th>\n",
       "      <th>genre</th>\n",
       "    </tr>\n",
       "  </thead>\n",
       "  <tbody>\n",
       "    <tr>\n",
       "      <th>0</th>\n",
       "      <td>Jason Mraz</td>\n",
       "      <td>I Won't Give Up</td>\n",
       "      <td>53QF56cjZA9RTuuMZDrSA6</td>\n",
       "      <td>68.0</td>\n",
       "      <td>0.303</td>\n",
       "      <td>0.000000</td>\n",
       "      <td>0.139</td>\n",
       "      <td>Folk</td>\n",
       "    </tr>\n",
       "    <tr>\n",
       "      <th>1</th>\n",
       "      <td>Jason Mraz</td>\n",
       "      <td>93 Million Miles</td>\n",
       "      <td>1s8tP3jP4GZcyHDsjvw218</td>\n",
       "      <td>50.0</td>\n",
       "      <td>0.454</td>\n",
       "      <td>0.000014</td>\n",
       "      <td>0.515</td>\n",
       "      <td>Folk</td>\n",
       "    </tr>\n",
       "    <tr>\n",
       "      <th>2</th>\n",
       "      <td>Joshua Hyslop</td>\n",
       "      <td>Do Not Let Me Go</td>\n",
       "      <td>7BRCa8MPiyuvr2VU3O9W0F</td>\n",
       "      <td>57.0</td>\n",
       "      <td>0.234</td>\n",
       "      <td>0.000050</td>\n",
       "      <td>0.145</td>\n",
       "      <td>Folk</td>\n",
       "    </tr>\n",
       "    <tr>\n",
       "      <th>3</th>\n",
       "      <td>Boyce Avenue</td>\n",
       "      <td>Fast Car</td>\n",
       "      <td>63wsZUhUZLlh1OsyrZq7sz</td>\n",
       "      <td>58.0</td>\n",
       "      <td>0.251</td>\n",
       "      <td>0.000000</td>\n",
       "      <td>0.508</td>\n",
       "      <td>Folk</td>\n",
       "    </tr>\n",
       "    <tr>\n",
       "      <th>4</th>\n",
       "      <td>Andrew Belle</td>\n",
       "      <td>Sky's Still Blue</td>\n",
       "      <td>6nXIYClvJAfi6ujLiKqEq8</td>\n",
       "      <td>54.0</td>\n",
       "      <td>0.791</td>\n",
       "      <td>0.019300</td>\n",
       "      <td>0.217</td>\n",
       "      <td>Folk</td>\n",
       "    </tr>\n",
       "  </tbody>\n",
       "</table>\n",
       "</div>"
      ],
      "text/plain": [
       "          artist        track_name                track_id  popularity  \\\n",
       "0     Jason Mraz   I Won't Give Up  53QF56cjZA9RTuuMZDrSA6        68.0   \n",
       "1     Jason Mraz  93 Million Miles  1s8tP3jP4GZcyHDsjvw218        50.0   \n",
       "2  Joshua Hyslop  Do Not Let Me Go  7BRCa8MPiyuvr2VU3O9W0F        57.0   \n",
       "3   Boyce Avenue          Fast Car  63wsZUhUZLlh1OsyrZq7sz        58.0   \n",
       "4   Andrew Belle  Sky's Still Blue  6nXIYClvJAfi6ujLiKqEq8        54.0   \n",
       "\n",
       "   energy  instrumentalness  valence genre  \n",
       "0   0.303          0.000000    0.139  Folk  \n",
       "1   0.454          0.000014    0.515  Folk  \n",
       "2   0.234          0.000050    0.145  Folk  \n",
       "3   0.251          0.000000    0.508  Folk  \n",
       "4   0.791          0.019300    0.217  Folk  "
      ]
     },
     "execution_count": 2,
     "metadata": {},
     "output_type": "execute_result"
    }
   ],
   "source": [
    "# Select relevant columns \n",
    "usecols = [\"track_id\", \"track_name\", \"artist_name\", \"new_genre\", \"popularity\", \"energy\", \"instrumentalness\", \"valence\"]\n",
    "\n",
    "# Load data file into a DataFrame\n",
    "df = pd.read_csv('../datasets/track_data.csv', usecols=usecols, dtype={'popularity': 'float64'})\n",
    "\n",
    "# Rename columns\n",
    "df.rename(columns={'artist_name': 'artist', 'new_genre': 'genre'}, inplace=True)\n",
    "\n",
    "# Display the first few rows \n",
    "df.head()"
   ]
  },
  {
   "cell_type": "markdown",
   "id": "df7b9265-03ab-46ca-a592-95ebbb16c76a",
   "metadata": {},
   "source": [
    "**Normalise data**\n",
    "\n",
    "Scale the numerical features in the DataFrame, so that they can be compared and treated equally.  Each feature will now have a mean of 0 and a standard deviation of 1.\n"
   ]
  },
  {
   "cell_type": "code",
   "execution_count": 3,
   "id": "a700342a-a155-43d7-b233-7fbfb7f572e2",
   "metadata": {
    "executionCancelledAt": null,
    "executionTime": 38,
    "lastExecutedAt": 1745910695723,
    "lastExecutedByKernel": "3f6a50a6-55f0-4de0-8c84-2558e78470ac",
    "lastScheduledRunId": null,
    "lastSuccessfullyExecutedCode": "# Normalise numerical features\nnumerical_features = [\"popularity\", \"energy\", \"instrumentalness\", \"valence\"]\nscaler = StandardScaler()\ndf.loc[:, numerical_features] = scaler.fit_transform(df[numerical_features].values)\ndf.head()",
    "outputsMetadata": {
     "0": {
      "height": 550,
      "tableState": {
       "customFilter": {
        "const": {
         "type": "boolean",
         "valid": true,
         "value": true
        },
        "id": "b5411fe0-d6ca-4673-861e-d72288b9b2d8",
        "nodeType": "const"
       },
       "quickFilterText": ""
      },
      "type": "dataFrame"
     }
    }
   },
   "outputs": [
    {
     "data": {
      "text/html": [
       "<div>\n",
       "<style scoped>\n",
       "    .dataframe tbody tr th:only-of-type {\n",
       "        vertical-align: middle;\n",
       "    }\n",
       "\n",
       "    .dataframe tbody tr th {\n",
       "        vertical-align: top;\n",
       "    }\n",
       "\n",
       "    .dataframe thead th {\n",
       "        text-align: right;\n",
       "    }\n",
       "</style>\n",
       "<table border=\"1\" class=\"dataframe\">\n",
       "  <thead>\n",
       "    <tr style=\"text-align: right;\">\n",
       "      <th></th>\n",
       "      <th>artist</th>\n",
       "      <th>track_name</th>\n",
       "      <th>track_id</th>\n",
       "      <th>popularity</th>\n",
       "      <th>energy</th>\n",
       "      <th>instrumentalness</th>\n",
       "      <th>valence</th>\n",
       "      <th>genre</th>\n",
       "    </tr>\n",
       "  </thead>\n",
       "  <tbody>\n",
       "    <tr>\n",
       "      <th>0</th>\n",
       "      <td>Jason Mraz</td>\n",
       "      <td>I Won't Give Up</td>\n",
       "      <td>53QF56cjZA9RTuuMZDrSA6</td>\n",
       "      <td>3.123399</td>\n",
       "      <td>-1.244617</td>\n",
       "      <td>-0.691229</td>\n",
       "      <td>-1.178925</td>\n",
       "      <td>Folk</td>\n",
       "    </tr>\n",
       "    <tr>\n",
       "      <th>1</th>\n",
       "      <td>Jason Mraz</td>\n",
       "      <td>93 Million Miles</td>\n",
       "      <td>1s8tP3jP4GZcyHDsjvw218</td>\n",
       "      <td>1.990293</td>\n",
       "      <td>-0.686393</td>\n",
       "      <td>-0.691191</td>\n",
       "      <td>0.221349</td>\n",
       "      <td>Folk</td>\n",
       "    </tr>\n",
       "    <tr>\n",
       "      <th>2</th>\n",
       "      <td>Joshua Hyslop</td>\n",
       "      <td>Do Not Let Me Go</td>\n",
       "      <td>7BRCa8MPiyuvr2VU3O9W0F</td>\n",
       "      <td>2.430946</td>\n",
       "      <td>-1.499700</td>\n",
       "      <td>-0.691092</td>\n",
       "      <td>-1.156580</td>\n",
       "      <td>Folk</td>\n",
       "    </tr>\n",
       "    <tr>\n",
       "      <th>3</th>\n",
       "      <td>Boyce Avenue</td>\n",
       "      <td>Fast Car</td>\n",
       "      <td>63wsZUhUZLlh1OsyrZq7sz</td>\n",
       "      <td>2.493896</td>\n",
       "      <td>-1.436853</td>\n",
       "      <td>-0.691229</td>\n",
       "      <td>0.195280</td>\n",
       "      <td>Folk</td>\n",
       "    </tr>\n",
       "    <tr>\n",
       "      <th>4</th>\n",
       "      <td>Andrew Belle</td>\n",
       "      <td>Sky's Still Blue</td>\n",
       "      <td>6nXIYClvJAfi6ujLiKqEq8</td>\n",
       "      <td>2.242095</td>\n",
       "      <td>0.559444</td>\n",
       "      <td>-0.638363</td>\n",
       "      <td>-0.888443</td>\n",
       "      <td>Folk</td>\n",
       "    </tr>\n",
       "  </tbody>\n",
       "</table>\n",
       "</div>"
      ],
      "text/plain": [
       "          artist        track_name                track_id  popularity  \\\n",
       "0     Jason Mraz   I Won't Give Up  53QF56cjZA9RTuuMZDrSA6    3.123399   \n",
       "1     Jason Mraz  93 Million Miles  1s8tP3jP4GZcyHDsjvw218    1.990293   \n",
       "2  Joshua Hyslop  Do Not Let Me Go  7BRCa8MPiyuvr2VU3O9W0F    2.430946   \n",
       "3   Boyce Avenue          Fast Car  63wsZUhUZLlh1OsyrZq7sz    2.493896   \n",
       "4   Andrew Belle  Sky's Still Blue  6nXIYClvJAfi6ujLiKqEq8    2.242095   \n",
       "\n",
       "     energy  instrumentalness   valence genre  \n",
       "0 -1.244617         -0.691229 -1.178925  Folk  \n",
       "1 -0.686393         -0.691191  0.221349  Folk  \n",
       "2 -1.499700         -0.691092 -1.156580  Folk  \n",
       "3 -1.436853         -0.691229  0.195280  Folk  \n",
       "4  0.559444         -0.638363 -0.888443  Folk  "
      ]
     },
     "execution_count": 3,
     "metadata": {},
     "output_type": "execute_result"
    }
   ],
   "source": [
    "# Normalise numerical features\n",
    "numerical_features = [\"popularity\", \"energy\", \"instrumentalness\", \"valence\"]\n",
    "scaler = StandardScaler()\n",
    "df.loc[:, numerical_features] = scaler.fit_transform(df[numerical_features].values)\n",
    "df.head()"
   ]
  },
  {
   "cell_type": "markdown",
   "id": "a8bbc88c-b2ab-49fe-b9a4-853a9d310c24",
   "metadata": {
    "collapsed": false,
    "jupyter": {
     "outputs_hidden": false,
     "source_hidden": false
    }
   },
   "source": [
    "**Setup user preferences**\n",
    "\n",
    "Setup user preferences for the recommendation algorithm."
   ]
  },
  {
   "cell_type": "code",
   "execution_count": 4,
   "id": "1c2d6531-d3b9-426b-a12e-312ddbfd7a82",
   "metadata": {
    "executionCancelledAt": null,
    "executionTime": 10,
    "lastExecutedAt": 1745910713338,
    "lastExecutedByKernel": "3f6a50a6-55f0-4de0-8c84-2558e78470ac",
    "lastScheduledRunId": null,
    "lastSuccessfullyExecutedCode": "# Set values for user profile\nuser_profile = {\n    \"popularity\": 80,\n    \"energy\": 0.5,\n    \"instrumentalness\": 0.1,\n    \"valence\": 0.5,\n    \"preferred_artists\": ['Ed Sheeran', 'Coldplay'],\n}"
   },
   "outputs": [],
   "source": [
    "# Setup user preferences\n",
    "preferences = {\n",
    "    \"popularity\": 80,\n",
    "    \"energy\": 0.5,\n",
    "    \"instrumentalness\": 0.1,\n",
    "    \"valence\": 0.5,\n",
    "    \"genres\": ['Pop', 'Rock'],\n",
    "    \"artists\": ['Ed Sheeran', 'Coldplay'],\n",
    "}"
   ]
  },
  {
   "cell_type": "markdown",
   "id": "cad78b90",
   "metadata": {},
   "source": [
    "**Filter dataset by genre**\n",
    "\n",
    "Filter the dataset based on the user's genre preferences."
   ]
  },
  {
   "cell_type": "code",
   "execution_count": 5,
   "id": "0137e16f",
   "metadata": {},
   "outputs": [
    {
     "data": {
      "text/plain": [
       "0    False\n",
       "1    False\n",
       "2    False\n",
       "3    False\n",
       "4    False\n",
       "Name: genre, dtype: bool"
      ]
     },
     "execution_count": 5,
     "metadata": {},
     "output_type": "execute_result"
    }
   ],
   "source": [
    "# Create a boolean mask for matching genres\n",
    "genre_mask = df['genre'].isin(preferences['genres'])  \n",
    "genre_mask.head()"
   ]
  },
  {
   "cell_type": "code",
   "execution_count": 6,
   "id": "0f766060",
   "metadata": {},
   "outputs": [
    {
     "data": {
      "text/html": [
       "<div>\n",
       "<style scoped>\n",
       "    .dataframe tbody tr th:only-of-type {\n",
       "        vertical-align: middle;\n",
       "    }\n",
       "\n",
       "    .dataframe tbody tr th {\n",
       "        vertical-align: top;\n",
       "    }\n",
       "\n",
       "    .dataframe thead th {\n",
       "        text-align: right;\n",
       "    }\n",
       "</style>\n",
       "<table border=\"1\" class=\"dataframe\">\n",
       "  <thead>\n",
       "    <tr style=\"text-align: right;\">\n",
       "      <th></th>\n",
       "      <th>artist</th>\n",
       "      <th>track_name</th>\n",
       "      <th>track_id</th>\n",
       "      <th>popularity</th>\n",
       "      <th>energy</th>\n",
       "      <th>instrumentalness</th>\n",
       "      <th>valence</th>\n",
       "      <th>genre</th>\n",
       "    </tr>\n",
       "  </thead>\n",
       "  <tbody>\n",
       "    <tr>\n",
       "      <th>1770</th>\n",
       "      <td>Neon Trees</td>\n",
       "      <td>Everybody Talks</td>\n",
       "      <td>2iUmqdfGZcHIhS3b9E9EWq</td>\n",
       "      <td>3.689952</td>\n",
       "      <td>1.051125</td>\n",
       "      <td>-0.691229</td>\n",
       "      <td>1.003417</td>\n",
       "      <td>Rock</td>\n",
       "    </tr>\n",
       "    <tr>\n",
       "      <th>1771</th>\n",
       "      <td>Deftones</td>\n",
       "      <td>Rosemary</td>\n",
       "      <td>4FEr6dIdH6EqLKR0jB560J</td>\n",
       "      <td>3.312250</td>\n",
       "      <td>-0.098595</td>\n",
       "      <td>-0.417311</td>\n",
       "      <td>-1.409076</td>\n",
       "      <td>Rock</td>\n",
       "    </tr>\n",
       "    <tr>\n",
       "      <th>1772</th>\n",
       "      <td>Black Veil Brides</td>\n",
       "      <td>In The End</td>\n",
       "      <td>1RTYixE1DD3g3upEpmCJpa</td>\n",
       "      <td>3.123399</td>\n",
       "      <td>1.106578</td>\n",
       "      <td>-0.675095</td>\n",
       "      <td>-0.691064</td>\n",
       "      <td>Rock</td>\n",
       "    </tr>\n",
       "    <tr>\n",
       "      <th>1773</th>\n",
       "      <td>Thousand Foot Krutch</td>\n",
       "      <td>Courtesy Call</td>\n",
       "      <td>0AOmbw8AwDnwXhHC3OhdVB</td>\n",
       "      <td>3.312250</td>\n",
       "      <td>-0.006173</td>\n",
       "      <td>-0.691229</td>\n",
       "      <td>-0.039340</td>\n",
       "      <td>Rock</td>\n",
       "    </tr>\n",
       "    <tr>\n",
       "      <th>1774</th>\n",
       "      <td>Deftones</td>\n",
       "      <td>Entombed</td>\n",
       "      <td>4bLCPfBLKlqiONo6TALTh5</td>\n",
       "      <td>2.934548</td>\n",
       "      <td>0.418964</td>\n",
       "      <td>-0.340614</td>\n",
       "      <td>-1.074649</td>\n",
       "      <td>Rock</td>\n",
       "    </tr>\n",
       "  </tbody>\n",
       "</table>\n",
       "</div>"
      ],
      "text/plain": [
       "                    artist       track_name                track_id  \\\n",
       "1770            Neon Trees  Everybody Talks  2iUmqdfGZcHIhS3b9E9EWq   \n",
       "1771              Deftones         Rosemary  4FEr6dIdH6EqLKR0jB560J   \n",
       "1772     Black Veil Brides       In The End  1RTYixE1DD3g3upEpmCJpa   \n",
       "1773  Thousand Foot Krutch    Courtesy Call  0AOmbw8AwDnwXhHC3OhdVB   \n",
       "1774              Deftones         Entombed  4bLCPfBLKlqiONo6TALTh5   \n",
       "\n",
       "      popularity    energy  instrumentalness   valence genre  \n",
       "1770    3.689952  1.051125         -0.691229  1.003417  Rock  \n",
       "1771    3.312250 -0.098595         -0.417311 -1.409076  Rock  \n",
       "1772    3.123399  1.106578         -0.675095 -0.691064  Rock  \n",
       "1773    3.312250 -0.006173         -0.691229 -0.039340  Rock  \n",
       "1774    2.934548  0.418964         -0.340614 -1.074649  Rock  "
      ]
     },
     "execution_count": 6,
     "metadata": {},
     "output_type": "execute_result"
    }
   ],
   "source": [
    "# Use the mask to filter and copy the DataFrame\n",
    "filtered_df = df[genre_mask].copy()                   \n",
    "\n",
    "# Display the filtered DataFrame\n",
    "filtered_df.head()"
   ]
  },
  {
   "cell_type": "markdown",
   "id": "846b7d55-9001-4da2-897a-26386af20645",
   "metadata": {},
   "source": [
    "**Create user vector**\n",
    "\n",
    "Create a list of the user's preferences, focusing on the numerical features only. We use only numerical features because they can be **directly** compared using math, while non-numeric features like genre or artist cannot."
   ]
  },
  {
   "cell_type": "code",
   "execution_count": 7,
   "id": "418e6320-ce14-4ef5-ba39-819fa851a22b",
   "metadata": {
    "executionCancelledAt": null,
    "executionTime": 10,
    "lastExecutedAt": 1745910725122,
    "lastExecutedByKernel": "3f6a50a6-55f0-4de0-8c84-2558e78470ac",
    "lastScheduledRunId": null,
    "lastSuccessfullyExecutedCode": "user_feature_vector = [\n    user_profile[\"popularity\"],\n    user_profile[\"energy\"],\n    user_profile[\"instrumentalness\"],\n    user_profile[\"valence\"]\n]\n\nuser_feature_vector_scaled = scaler.transform([user_feature_vector])[0]\nprint(user_feature_vector_scaled)",
    "outputsMetadata": {
     "0": {
      "height": 38,
      "type": "stream"
     }
    }
   },
   "outputs": [
    {
     "name": "stdout",
     "output_type": "stream",
     "text": [
      "[80, 0.5, 0.1, 0.5]\n"
     ]
    }
   ],
   "source": [
    "# Create user vector\n",
    "user_vector = [preferences[feature] for feature in numerical_features]\n",
    "print(user_vector)"
   ]
  },
  {
   "cell_type": "markdown",
   "id": "a8f833ac",
   "metadata": {},
   "source": [
    "**Normalise user vector**\n",
    "\n",
    "Scale the user's vector, so that it can be compared to the song data."
   ]
  },
  {
   "cell_type": "code",
   "execution_count": 8,
   "id": "3d0c125e-8240-45bb-a187-14b4e3697162",
   "metadata": {
    "executionCancelledAt": null,
    "executionTime": 48,
    "lastExecutedAt": 1745910746299,
    "lastExecutedByKernel": "3f6a50a6-55f0-4de0-8c84-2558e78470ac",
    "lastScheduledRunId": null,
    "lastSuccessfullyExecutedCode": "# Set features to be ignored for recommendations (optional)\nignored_features = ['instrumentalness']\n\nignore_indices = [numerical_features.index(feature) for feature in ignored_features]\n\nfor index in ignore_indices:\n    user_feature_vector_scaled[index] = 0.0\n        \nprint(user_feature_vector_scaled)",
    "outputsMetadata": {
     "0": {
      "height": 38,
      "type": "stream"
     }
    }
   },
   "outputs": [
    {
     "name": "stdout",
     "output_type": "stream",
     "text": [
      "[ 3.87880338 -0.51633828 -0.41731084  0.16548708]\n"
     ]
    }
   ],
   "source": [
    "# Scale the user vector using the same scaler as the dataset\n",
    "user_vector_scaled = scaler.transform([user_vector])[0]\n",
    "print(user_vector_scaled)"
   ]
  },
  {
   "cell_type": "markdown",
   "id": "c7bc159c",
   "metadata": {},
   "source": [
    "**Extract track vectors**\n",
    "\n",
    "Extract the numerical features for each track."
   ]
  },
  {
   "cell_type": "code",
   "execution_count": 9,
   "id": "c7e8fba7-6433-4da2-8c36-84b1a7f66eef",
   "metadata": {
    "executionCancelledAt": null,
    "executionTime": 11,
    "lastExecutedAt": 1745910752627,
    "lastExecutedByKernel": "3f6a50a6-55f0-4de0-8c84-2558e78470ac",
    "lastScheduledRunId": null,
    "lastSuccessfullyExecutedCode": "# Extract feature matrix\nfeature_matrix = df[numerical_features].values\nprint(feature_matrix)",
    "outputsMetadata": {
     "0": {
      "height": 164,
      "type": "stream"
     }
    }
   },
   "outputs": [
    {
     "name": "stdout",
     "output_type": "stream",
     "text": [
      "[[ 3.1233993  -1.24461718 -0.69122871 -1.17892497]\n",
      " [ 1.99029317 -0.68639325 -0.69119118  0.22134908]\n",
      " [ 2.43094555 -1.49969964 -0.69109175 -1.15658017]\n",
      " ...\n",
      " [-1.03132315 -0.73814911 -0.68265508 -1.5658624 ]\n",
      " [-1.15722383 -0.86753877 -0.69105532 -0.94430458]\n",
      " [-0.96837281  0.81822357 -0.69120562  1.4950026 ]]\n"
     ]
    }
   ],
   "source": [
    "# Extract track vectors\n",
    "track_vectors = df[numerical_features].values\n",
    "print(track_vectors)"
   ]
  },
  {
   "cell_type": "markdown",
   "id": "c9f462d8-05f7-406b-bf6d-36980bb6d0f6",
   "metadata": {},
   "source": [
    "**Calculate similarity between user vector and track vectors**\n",
    "\n",
    "Measure how similar each track is to the user's preferences by comparing their feature vectors. The measure of similarity used is called \"cosine similarity\".\n",
    "\n",
    "Geometrically, it is the cosine of the angle between the two vectors. If two vectors are identical, the angle is 0 and the cosine is 1, indicating perfect similarity. If they are completely different, the angle is 90 degrees and the cosine is 0, indicating no similarity. Cosine similarity is a measure of orientation, not magnitude."
   ]
  },
  {
   "cell_type": "code",
   "execution_count": 10,
   "id": "15df5792-1d41-4fe7-9845-84333ffe682a",
   "metadata": {
    "executionCancelledAt": null,
    "executionTime": 78,
    "lastExecutedAt": 1745910762757,
    "lastExecutedByKernel": "3f6a50a6-55f0-4de0-8c84-2558e78470ac",
    "lastScheduledRunId": null,
    "lastSuccessfullyExecutedCode": "# Calculate similarity between track features and user features\nsimilarity_matrix = cosine_similarity(feature_matrix, [user_feature_vector_scaled])\nprint(similarity_matrix)",
    "outputsMetadata": {
     "0": {
      "height": 164,
      "type": "stream"
     }
    }
   },
   "outputs": [
    {
     "name": "stdout",
     "output_type": "stream",
     "text": [
      "[ 0.8561433   0.89201651  0.7641776  ... -0.49189858 -0.62855837\n",
      " -0.45934824]\n"
     ]
    }
   ],
   "source": [
    "# Calculate similarity between user vector and track vectors\n",
    "similarity_matrix = cosine_similarity(track_vectors, [user_vector])\n",
    "similarity_scores = similarity_matrix.flatten()\n",
    "print(similarity_scores)"
   ]
  },
  {
   "cell_type": "markdown",
   "id": "9e62c640-387a-433d-874a-45e489b773ad",
   "metadata": {},
   "source": [
    "**Boost similarity scores for preferred artists**\n",
    "\n",
    "Boost similarity scores for tracks by preferred artists. If a track is by a preferred artist, its similarity score is increased (e.g. by 30%) to make it more likely to be recommended."
   ]
  },
  {
   "cell_type": "code",
   "execution_count": 11,
   "id": "dabcdd8e-7f49-4efa-a258-12e17f3dccaf",
   "metadata": {
    "executionCancelledAt": null,
    "executionTime": 453,
    "lastExecutedAt": 1745910769129,
    "lastExecutedByKernel": "3f6a50a6-55f0-4de0-8c84-2558e78470ac",
    "lastScheduledRunId": null,
    "lastSuccessfullyExecutedCode": "# Check if any preferred artist is in the artist list\npreferred_artists = user_profile['preferred_artists']\nartist_matches = df['artists'].apply(lambda artist_list: any(artist in artist_list for artist in preferred_artists))\n\n# Display result\ntrue_artist_matches = artist_matches[artist_matches==True]\nprint(true_artist_matches)",
    "outputsMetadata": {
     "0": {
      "height": 269,
      "type": "stream"
     },
     "1": {
      "height": 550,
      "tableState": {
       "customFilter": {
        "const": {
         "type": "boolean",
         "valid": true,
         "value": true
        },
        "id": "b5411fe0-d6ca-4673-861e-d72288b9b2d8",
        "nodeType": "const"
       },
       "quickFilterText": ""
      },
      "type": "dataFrame"
     }
    }
   },
   "outputs": [
    {
     "data": {
      "text/plain": [
       "0    False\n",
       "1    False\n",
       "2    False\n",
       "3    False\n",
       "4    False\n",
       "Name: artist, dtype: bool"
      ]
     },
     "execution_count": 11,
     "metadata": {},
     "output_type": "execute_result"
    }
   ],
   "source": [
    "# Create a boolean mask for matching artists\n",
    "artist_matches = df['artist'].isin(preferences['artists'])  \n",
    "artist_matches.head()"
   ]
  },
  {
   "cell_type": "code",
   "execution_count": 12,
   "id": "94ba5c08-7deb-49fe-b8e9-1ff38ea135fb",
   "metadata": {
    "executionCancelledAt": null,
    "executionTime": 26,
    "lastExecutedAt": 1745910789209,
    "lastExecutedByKernel": "3f6a50a6-55f0-4de0-8c84-2558e78470ac",
    "lastScheduledRunId": null,
    "lastSuccessfullyExecutedCode": "# Show tracks for these artists\ndf.iloc[true_artist_matches.index]",
    "outputsMetadata": {
     "0": {
      "height": 550,
      "tableState": {
       "customFilter": {
        "const": {
         "type": "boolean",
         "valid": true,
         "value": true
        },
        "id": "b5411fe0-d6ca-4673-861e-d72288b9b2d8",
        "nodeType": "const"
       },
       "quickFilterText": ""
      },
      "type": "dataFrame"
     }
    }
   },
   "outputs": [
    {
     "data": {
      "text/html": [
       "<div>\n",
       "<style scoped>\n",
       "    .dataframe tbody tr th:only-of-type {\n",
       "        vertical-align: middle;\n",
       "    }\n",
       "\n",
       "    .dataframe tbody tr th {\n",
       "        vertical-align: top;\n",
       "    }\n",
       "\n",
       "    .dataframe thead th {\n",
       "        text-align: right;\n",
       "    }\n",
       "</style>\n",
       "<table border=\"1\" class=\"dataframe\">\n",
       "  <thead>\n",
       "    <tr style=\"text-align: right;\">\n",
       "      <th></th>\n",
       "      <th>artist</th>\n",
       "      <th>track_name</th>\n",
       "      <th>track_id</th>\n",
       "      <th>popularity</th>\n",
       "      <th>energy</th>\n",
       "      <th>instrumentalness</th>\n",
       "      <th>valence</th>\n",
       "      <th>genre</th>\n",
       "    </tr>\n",
       "  </thead>\n",
       "  <tbody>\n",
       "    <tr>\n",
       "      <th>40626</th>\n",
       "      <td>Coldplay</td>\n",
       "      <td>Paradise - Tiësto Remix</td>\n",
       "      <td>0pjMTISKHTJkogN1BPZxaC</td>\n",
       "      <td>2.053244</td>\n",
       "      <td>0.356118</td>\n",
       "      <td>-0.307744</td>\n",
       "      <td>0.698038</td>\n",
       "      <td>Pop</td>\n",
       "    </tr>\n",
       "    <tr>\n",
       "      <th>93580</th>\n",
       "      <td>Ed Sheeran</td>\n",
       "      <td>Photograph</td>\n",
       "      <td>6fxVffaTuwjgEk5h9QyRjy</td>\n",
       "      <td>2.871598</td>\n",
       "      <td>-0.963657</td>\n",
       "      <td>-0.689958</td>\n",
       "      <td>-0.948029</td>\n",
       "      <td>Pop</td>\n",
       "    </tr>\n",
       "    <tr>\n",
       "      <th>93582</th>\n",
       "      <td>Ed Sheeran</td>\n",
       "      <td>Thinking out Loud</td>\n",
       "      <td>1Slwb6dOYkBlWal1PGtnNg</td>\n",
       "      <td>2.871598</td>\n",
       "      <td>-0.719665</td>\n",
       "      <td>-0.691229</td>\n",
       "      <td>0.504383</td>\n",
       "      <td>Pop</td>\n",
       "    </tr>\n",
       "    <tr>\n",
       "      <th>93595</th>\n",
       "      <td>Ed Sheeran</td>\n",
       "      <td>I See Fire</td>\n",
       "      <td>1fu5IQSRgPxJL2OTP7FVLW</td>\n",
       "      <td>2.493896</td>\n",
       "      <td>-2.172896</td>\n",
       "      <td>-0.691229</td>\n",
       "      <td>-0.936856</td>\n",
       "      <td>Pop</td>\n",
       "    </tr>\n",
       "    <tr>\n",
       "      <th>93626</th>\n",
       "      <td>Ed Sheeran</td>\n",
       "      <td>All of the Stars</td>\n",
       "      <td>3Th56VIq2sEaEmPPETu7p5</td>\n",
       "      <td>2.179144</td>\n",
       "      <td>-0.305618</td>\n",
       "      <td>-0.690730</td>\n",
       "      <td>-0.627753</td>\n",
       "      <td>Pop</td>\n",
       "    </tr>\n",
       "  </tbody>\n",
       "</table>\n",
       "</div>"
      ],
      "text/plain": [
       "           artist               track_name                track_id  \\\n",
       "40626    Coldplay  Paradise - Tiësto Remix  0pjMTISKHTJkogN1BPZxaC   \n",
       "93580  Ed Sheeran               Photograph  6fxVffaTuwjgEk5h9QyRjy   \n",
       "93582  Ed Sheeran        Thinking out Loud  1Slwb6dOYkBlWal1PGtnNg   \n",
       "93595  Ed Sheeran               I See Fire  1fu5IQSRgPxJL2OTP7FVLW   \n",
       "93626  Ed Sheeran         All of the Stars  3Th56VIq2sEaEmPPETu7p5   \n",
       "\n",
       "       popularity    energy  instrumentalness   valence genre  \n",
       "40626    2.053244  0.356118         -0.307744  0.698038   Pop  \n",
       "93580    2.871598 -0.963657         -0.689958 -0.948029   Pop  \n",
       "93582    2.871598 -0.719665         -0.691229  0.504383   Pop  \n",
       "93595    2.493896 -2.172896         -0.691229 -0.936856   Pop  \n",
       "93626    2.179144 -0.305618         -0.690730 -0.627753   Pop  "
      ]
     },
     "execution_count": 12,
     "metadata": {},
     "output_type": "execute_result"
    }
   ],
   "source": [
    "# Show tracks for matching artists\n",
    "df[artist_matches].head()"
   ]
  },
  {
   "cell_type": "code",
   "execution_count": 101,
   "id": "120cbc2f-de60-4be7-b264-245cb3eeea81",
   "metadata": {
    "executionCancelledAt": null,
    "executionTime": 12,
    "lastExecutedAt": 1745910797433,
    "lastExecutedByKernel": "3f6a50a6-55f0-4de0-8c84-2558e78470ac",
    "lastScheduledRunId": null,
    "lastSuccessfullyExecutedCode": "# Boost factor - this can be tweaked.\n# A factor of 1.3 means that a preferred artist is 30% more likely to be recommended.\nboost_factor = 1.3\n\n# Multiply by boost factor where matches are found, and by 1 otherwise\nboost_values = 1 + (artist_matches.values.reshape(-1, 1) * (boost_factor - 1))\nsimilarity_matrix_with_boost = similarity_matrix * boost_values\nprint(similarity_matrix)",
    "outputsMetadata": {
     "0": {
      "height": 164,
      "type": "stream"
     }
    }
   },
   "outputs": [
    {
     "name": "stdout",
     "output_type": "stream",
     "text": [
      "[ 0.8561433   0.89201651  0.7641776  ... -0.49189858 -0.62855837\n",
      " -0.45934824]\n"
     ]
    }
   ],
   "source": [
    "# Boost factor - this can be tweaked.\n",
    "# A factor of 1.3 means that a preferred artist is 30% more likely to be recommended.\n",
    "boost_factor = 1.3\n",
    "\n",
    "# Boost scores for tracks by matching artists\n",
    "similarity_scores *= (artist_matches.values * (boost_factor - 1)) + 1\n",
    "print(similarity_scores)"
   ]
  },
  {
   "cell_type": "markdown",
   "id": "718bfdf3-0b5a-455f-ad55-1d4dfcf99629",
   "metadata": {},
   "source": [
    "**Recommend songs**\n",
    "\n",
    "Return a list of the top N songs based on the similarity scores.\n"
   ]
  },
  {
   "cell_type": "code",
   "execution_count": 14,
   "id": "77e065a9-5a23-42a2-a1b7-fd07653e1bca",
   "metadata": {
    "executionCancelledAt": null,
    "executionTime": 74,
    "lastExecutedAt": 1745910800751,
    "lastExecutedByKernel": "3f6a50a6-55f0-4de0-8c84-2558e78470ac",
    "lastScheduledRunId": null,
    "lastSuccessfullyExecutedCode": "# Recommend top N songs based on the similarity matrix\ntop_n = 10\n\n# Flatten the similarity matrix\nflattened = similarity_matrix_with_boost.flatten()\n\n# Get the indices of the top N scores\ntop_track_indices = np.argsort(-flattened)[:top_n]\n\n# Select the top N recommendations\nrecommendations = df.iloc[top_track_indices][[\"name\", \"artists\", \"id\"]]\nprint(recommendations)",
    "outputsMetadata": {
     "0": {
      "height": 290,
      "type": "stream"
     }
    }
   },
   "outputs": [
    {
     "name": "stdout",
     "output_type": "stream",
     "text": [
      "[488046 139636 311664 532028 295510 420120 532233 597091 285574 130860]\n"
     ]
    }
   ],
   "source": [
    "# Recommend top N songs based on the similarity scores\n",
    "top_n = 10\n",
    "\n",
    "# Get the indices of the top N scores\n",
    "top_track_indices = np.argsort(-similarity_scores)[:top_n]\n",
    "print(top_track_indices)"
   ]
  },
  {
   "cell_type": "code",
   "execution_count": 15,
   "id": "f1ccbbde",
   "metadata": {},
   "outputs": [
    {
     "name": "stdout",
     "output_type": "stream",
     "text": [
      "                                  track_name                 artist  \\\n",
      "488046                               CHARGER                   ELIO   \n",
      "139636           Cut Your Teeth - Kygo Remix         Kyla La Grange   \n",
      "311664                     City on the Water        The Stone Foxes   \n",
      "532028                              Beguiled  The Smashing Pumpkins   \n",
      "295510  Cola - Live from the London Aquarium              CamelPhat   \n",
      "420120                              Magnetik           Malandra Jr.   \n",
      "532233               We're Not In Orbit Yet…           Broken Bells   \n",
      "597091              Not Dark Yet - Version 1              Bob Dylan   \n",
      "285574                            Mumble Rap                  Belly   \n",
      "130860                                Poison          The Symposium   \n",
      "\n",
      "                      track_id  \n",
      "488046  0iBBOvVQ8QCK7F95boCn3C  \n",
      "139636  1y4Kln6VEjQMpmHW7j9GeY  \n",
      "311664  31IeYQlbVtlKss86WXBkLO  \n",
      "532028  6rBiMyaGB1ZJQnxb01FkPG  \n",
      "295510  58JJFLeOIq7WOYyrDdc8tr  \n",
      "420120  4P8ZoEphHmwIEk15dVrlkJ  \n",
      "532233  15byzavN7tdiwSTjirvyfh  \n",
      "597091  4tBwhmAibSxix5rKQ5zr4c  \n",
      "285574  3Wvq89A8v9p6xaX5sjamSP  \n",
      "130860  1Jg3XdrCOZ5rrirIOggdtW  \n"
     ]
    }
   ],
   "source": [
    "# Select the top N recommendations\n",
    "recommendations = df.iloc[top_track_indices][[\"track_name\", \"artist\", \"track_id\"]]\n",
    "print(recommendations)"
   ]
  }
 ],
 "metadata": {
  "colab": {
   "name": "Welcome to DataCamp Workspaces.ipynb",
   "provenance": []
  },
  "kernelspec": {
   "display_name": ".venv",
   "language": "python",
   "name": "python3"
  },
  "language_info": {
   "codemirror_mode": {
    "name": "ipython",
    "version": 3
   },
   "file_extension": ".py",
   "mimetype": "text/x-python",
   "name": "python",
   "nbconvert_exporter": "python",
   "pygments_lexer": "ipython3",
   "version": "3.12.7"
  }
 },
 "nbformat": 4,
 "nbformat_minor": 5
}
